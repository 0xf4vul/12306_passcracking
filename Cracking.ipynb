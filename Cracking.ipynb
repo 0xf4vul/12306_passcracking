{
 "metadata": {
  "name": "",
  "signature": "sha256:edcdc8669e44f65a0e929baa7488e066e153d9cd6b8c023d957fe9a62fbc730b"
 },
 "nbformat": 3,
 "nbformat_minor": 0,
 "worksheets": [
  {
   "cells": [
    {
     "cell_type": "code",
     "collapsed": false,
     "input": [
      "import time\n",
      "import matplotlib.pyplot as plt\n",
      "%matplotlib inline\n",
      "\n",
      "output = open(\"PCFG_output.txt\",\"r\")\n",
      "lines = output.readlines()\n",
      "xpoints = [0]\n",
      "ypoints = [0]\n",
      "lastind = 1\n",
      "total = 0\n",
      "for each in lines:\n",
      "    point = each.split()\n",
      "    total+=1\n",
      "    if int(point[0]) != lastind:\n",
      "        xpoints.append(lastind)\n",
      "        ypoints.append(total/65695.0)\n",
      "        lastind = int(point[0])\n",
      "output.close()\n",
      "\n",
      "output = open(\"output_personalPCFG.txt\",\"r\")\n",
      "lines = output.readlines()\n",
      "x2points = [0]\n",
      "y2points = [0]\n",
      "lastind = 1\n",
      "total = 0\n",
      "for each in lines:\n",
      "    point = each.split()\n",
      "    total+=1\n",
      "    if int(point[0]) != lastind:\n",
      "        x2points.append(lastind/20000.0)\n",
      "        y2points.append(total/65695.0)\n",
      "        lastind = int(point[0])        \n",
      "\n",
      "output = open(\"output_personalPCFG_guessmatch.txt\",\"r\")\n",
      "lines = output.readlines()\n",
      "x3points = [0]\n",
      "y3points = [0]\n",
      "lastind = 1\n",
      "total = 0\n",
      "for each in lines:\n",
      "    point = each.split()\n",
      "    total+=1\n",
      "    if int(point[0]) != lastind:\n",
      "        x3points.append(lastind)\n",
      "        y3points.append(total)\n",
      "        lastind = int(point[0])     \n",
      "\n",
      "\n",
      "\n",
      "\n",
      "\n",
      "\n",
      "print len(x2points)\n",
      "print len(y2points)\n",
      "print ypoints[:10]\n",
      "plt.plot(xpoints,ypoints,label=\"PCFG\")\n",
      "plt.plot(x2points,y2points,label=\"personalPCFG\",linestyle=\"--\")\n",
      "#plt.plot(x3points,y3points,label=\"personalPCFG-guessing\")\n",
      "#plt.xscale('log', nonposy='clip')\n",
      "#plt.yscale('log', nonposy='clip')\n",
      "plt.ylabel('Probability to Crack Password')\n",
      "plt.xlabel('Guessing Number')\n",
      "plt.legend()\n",
      "axes = plt.gca()\n",
      "axes.set_xlim([0,0.14*10**8])\n",
      "\n",
      "plt.legend(bbox_to_anchor=(1.0, 0.3))\n",
      "plt.grid()\n",
      "plt.show()\n",
      "print ypoints[-1] * 65695\n",
      "print y2points[-1] * 65695\n",
      "print xpoints[-1]"
     ],
     "language": "python",
     "metadata": {},
     "outputs": [
      {
       "output_type": "stream",
       "stream": "stdout",
       "text": [
        "27380\n",
        "27380\n",
        "[0, 0.0050079914757591906, 0.006438846183118959, 0.007763147880356191, 0.008387244082502474, 0.008874343557348353, 0.009574549052439303, 0.011553390669000685, 0.011964380850901896, 0.013273460689550194]\n"
       ]
      },
      {
       "metadata": {},
       "output_type": "display_data",
       "png": "[encoded data removed]",
       "text": [
        "<matplotlib.figure.Figure at 0x101f5d150>"
       ]
      },
      {
       "output_type": "stream",
       "stream": "stdout",
       "text": [
        "28164.0\n",
        "30519.0\n",
        "300885724\n"
       ]
      }
     ],
     "prompt_number": 85
    },
    {
     "cell_type": "code",
     "collapsed": false,
     "input": [
      "output = open(\"output_personalPCFG.txt\",\"r\")\n",
      "kk = output.readlines()\n",
      "tmp = []\n",
      "for each in kk:\n",
      "    tmp.append(each.split()[1])\n",
      "print len(set(tmp))"
     ],
     "language": "python",
     "metadata": {},
     "outputs": [
      {
       "output_type": "stream",
       "stream": "stdout",
       "text": [
        "15915\n"
       ]
      }
     ],
     "prompt_number": 4
    },
    {
     "cell_type": "code",
     "collapsed": false,
     "input": [
      "import pickle\n",
      "cvglist = pickle.load( open( \"cvg.p\", \"rb\" ) )\n",
      "\n",
      "cvglist[:30]"
     ],
     "language": "python",
     "metadata": {},
     "outputs": [
      {
       "metadata": {},
       "output_type": "pyout",
       "prompt_number": 2,
       "text": [
        "[1.0,\n",
        " 0.04,\n",
        " 0.265625,\n",
        " 1.0,\n",
        " 1.0,\n",
        " 0.30864197530864196,\n",
        " 0.0,\n",
        " 1.0,\n",
        " 1.0,\n",
        " 0.04938271604938271,\n",
        " 0.19834710743801653,\n",
        " 0.20987654320987653,\n",
        " 1.0,\n",
        " 0.20987654320987653,\n",
        " 0.0,\n",
        " 0.0625,\n",
        " 0.08163265306122448,\n",
        " 0.40816326530612246,\n",
        " 0.5102040816326531,\n",
        " 0.13,\n",
        " 0.203125,\n",
        " 0.17,\n",
        " 0.125,\n",
        " 0.19834710743801653,\n",
        " 0.7901234567901234,\n",
        " 0.53125,\n",
        " 0.24,\n",
        " 0.6033057851239669,\n",
        " 0.14814814814814814,\n",
        " 0.5555555555555556]"
       ]
      }
     ],
     "prompt_number": 2
    },
    {
     "cell_type": "code",
     "collapsed": false,
     "input": [
      "import numpy as np\n",
      "\n",
      "#from pylab import rcParams\n",
      "#rcParams['figure.figsize'] = 10, 5\n",
      "plt.hist(cvglist,bins=10)\n",
      "plt.ylabel('Number of Passwords')\n",
      "plt.xlabel('Coverage')\n",
      "plt.show()\n",
      "\n",
      "\n",
      "\n",
      "# Some fake data:\n",
      "data = cvglist\n",
      "\n",
      "sorted_data = np.sort(data)  # Or data.sort(), if data can be modified\n",
      "\n",
      "# Cumulative distributions:\n",
      "plt.step(sorted_data, np.arange(sorted_data.size)/float(len(cvglist)),label=\"12306\",color=\"green\")  # From 0 to the number of data points-1\n",
      "plt.ylabel('Cumulative Probability')\n",
      "plt.xlabel('Coverage')\n",
      "plt.legend(bbox_to_anchor=(0.3, 1.))\n",
      "plt.show()\n"
     ],
     "language": "python",
     "metadata": {},
     "outputs": [
      {
       "metadata": {},
       "output_type": "display_data",
       "png": "[encoded data removed]",
       "text": [
        "<matplotlib.figure.Figure at 0x104806450>"
       ]
      },
      {
       "metadata": {},
       "output_type": "display_data",
       "png": "[encoded data removed]",
       "text": [
        "<matplotlib.figure.Figure at 0x1047f4190>"
       ]
      }
     ],
     "prompt_number": 20
    },
    {
     "cell_type": "code",
     "collapsed": false,
     "input": [
      "ct = 0.0\n",
      "for each in cvglist:\n",
      "    if each == 0:\n",
      "        ct += 1\n",
      "print ct\n",
      "print ct/len(cvglist)"
     ],
     "language": "python",
     "metadata": {},
     "outputs": [
      {
       "output_type": "stream",
       "stream": "stdout",
       "text": [
        "13025.0\n",
        "0.0991331085555\n"
       ]
      }
     ],
     "prompt_number": 33
    },
    {
     "cell_type": "code",
     "collapsed": false,
     "input": [
      "13811 + 17591 - 31402"
     ],
     "language": "python",
     "metadata": {},
     "outputs": [
      {
       "metadata": {},
       "output_type": "pyout",
       "prompt_number": 31,
       "text": [
        "0"
       ]
      }
     ],
     "prompt_number": 31
    },
    {
     "cell_type": "code",
     "collapsed": false,
     "input": [],
     "language": "python",
     "metadata": {},
     "outputs": []
    }
   ],
   "metadata": {}
  }
 ]
}