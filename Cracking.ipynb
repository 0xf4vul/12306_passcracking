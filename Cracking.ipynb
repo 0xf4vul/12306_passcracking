{
 "metadata": {
  "name": "",
  "signature": "sha256:9d4e922d515aebf45a350890427b5d7257d83881d32d4199fd1b55f6b43a2a1a"
 },
 "nbformat": 3,
 "nbformat_minor": 0,
 "worksheets": [
  {
   "cells": [
    {
     "cell_type": "code",
     "collapsed": false,
     "input": [
      "import time\n",
      "%matplotlib inline\n",
      "\n",
      "output = open(\"/Users/liyue/research/12306_passcracking/PCFG_output.txt\",\"r\")\n",
      "lines = output.readlines()\n",
      "xpoints = [0]\n",
      "ypoints = [0]\n",
      "lastind = 1\n",
      "total = 0\n",
      "for each in lines:\n",
      "    point = each.split()\n",
      "    total+=1\n",
      "    if int(point[0]) != lastind:\n",
      "        xpoints.append(lastind)\n",
      "        ypoints.append(total)\n",
      "        lastind = int(point[0])\n",
      "        \n",
      "output = open(\"/Users/liyue/research/12306_passcracking/output_personalPCFG.txt\",\"r\")\n",
      "lines = output.readlines()\n",
      "x2points = [0]\n",
      "y2points = [0]\n",
      "lastind = 1\n",
      "total = 0\n",
      "for each in lines:\n",
      "    point = each.split()\n",
      "    total+=1\n",
      "    if int(point[0]) != lastind:\n",
      "        x2points.append(lastind)\n",
      "        y2points.append(total)\n",
      "        lastind = int(point[0])        \n",
      "\n",
      "        \n",
      "x2points = x2points[:len(xpoints)]\n",
      "y2points = y2points[:len(ypoints)]\n",
      "print len(x2points)\n",
      "print len(y2points)\n",
      "print ypoints[:10]\n",
      "import matplotlib.pyplot as plt\n",
      "plt.plot(xpoints,ypoints,label=\"PCFG\")\n",
      "plt.plot(x2points,y2points,label=\"personalPCFG\")\n",
      "#plt.xscale('log', nonposy='clip')\n",
      "#plt.yscale('log', nonposy='clip')\n",
      "plt.ylabel('cracked number')\n",
      "plt.xlabel('guessing number')\n",
      "plt.legend()\n",
      "axes = plt.gca()\n",
      "axes.set_xlim([0,0.7*10**9])\n",
      "plt.show()"
     ],
     "language": "python",
     "metadata": {},
     "outputs": [
      {
       "output_type": "stream",
       "stream": "stdout",
       "text": [
        "20350\n",
        "20350\n",
        "[0, 329, 423, 510, 551, 583, 629, 759, 786, 872]\n"
       ]
      },
      {
       "metadata": {},
       "output_type": "display_data",
       "png": "[encoded data removed]",
       "text": [
        "<matplotlib.figure.Figure at 0x105ef9390>"
       ]
      }
     ],
     "prompt_number": 6
    },
    {
     "cell_type": "code",
     "collapsed": false,
     "input": [
      "output = open(\"output_personalPCFG.txt\",\"r\")\n",
      "kk = output.readlines()\n",
      "tmp = []\n",
      "for each in kk:\n",
      "    tmp.append(each.split()[1])\n",
      "print len(set(tmp))"
     ],
     "language": "python",
     "metadata": {},
     "outputs": [
      {
       "output_type": "stream",
       "stream": "stdout",
       "text": [
        "15915\n"
       ]
      }
     ],
     "prompt_number": 4
    },
    {
     "cell_type": "code",
     "collapsed": false,
     "input": [],
     "language": "python",
     "metadata": {},
     "outputs": [],
     "prompt_number": 7
    },
    {
     "cell_type": "code",
     "collapsed": false,
     "input": [],
     "language": "python",
     "metadata": {},
     "outputs": []
    }
   ],
   "metadata": {}
  }
 ]
}