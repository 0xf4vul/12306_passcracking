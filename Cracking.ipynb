{
 "metadata": {
  "name": "",
  "signature": "sha256:5c6fa21fd21efef021679ea80bdd9572a63db4b79b236f342f57703e12cc4801"
 },
 "nbformat": 3,
 "nbformat_minor": 0,
 "worksheets": [
  {
   "cells": [
    {
     "cell_type": "code",
     "collapsed": false,
     "input": [
      "import time\n",
      "workspace = \"/Users/liyue/research/PCFG/probablistic_cracker/probabilistic_cracker/\"\n",
      "\n",
      "f = open(workspace+\"firsttry\",\"r\")\n",
      "f2 = open(workspace+\"testingset\",\"r\")\n",
      "result = open(workspace+\"firstresult\",\"w\")\n",
      "\n",
      "testpass = f2.readlines()\n",
      "line = f.readline()\n",
      "count = 1\n",
      "while line != None:\n",
      "    if count % 10000 == 0:\n",
      "        print count\n",
      "    for i in range(0,len(testpass)):\n",
      "        if testpass[i] == line:\n",
      "            result.write(str(count) + \"\\t\" +str(i)+ \"\\t\" + line)\n",
      "    count += 1\n",
      "    line = f.readline()\n",
      "f.close()\n",
      "f2.close()\n",
      "result.close()"
     ],
     "language": "python",
     "metadata": {},
     "outputs": [
      {
       "ename": "KeyboardInterrupt",
       "evalue": "",
       "output_type": "pyerr",
       "traceback": [
        "\u001b[0;31m---------------------------------------------------------------------------\u001b[0m\n\u001b[0;31mKeyboardInterrupt\u001b[0m                         Traceback (most recent call last)",
        "\u001b[0;32m<ipython-input-19-99120ac495cd>\u001b[0m in \u001b[0;36m<module>\u001b[0;34m()\u001b[0m\n\u001b[1;32m     12\u001b[0m     \u001b[0;32mif\u001b[0m \u001b[0mcount\u001b[0m \u001b[0;34m%\u001b[0m \u001b[0;36m10000\u001b[0m \u001b[0;34m==\u001b[0m \u001b[0;36m0\u001b[0m\u001b[0;34m:\u001b[0m\u001b[0;34m\u001b[0m\u001b[0m\n\u001b[1;32m     13\u001b[0m         \u001b[0;32mprint\u001b[0m \u001b[0mcount\u001b[0m\u001b[0;34m\u001b[0m\u001b[0m\n\u001b[0;32m---> 14\u001b[0;31m     \u001b[0;32mfor\u001b[0m \u001b[0mi\u001b[0m \u001b[0;32min\u001b[0m \u001b[0mrange\u001b[0m\u001b[0;34m(\u001b[0m\u001b[0;36m0\u001b[0m\u001b[0;34m,\u001b[0m\u001b[0mlen\u001b[0m\u001b[0;34m(\u001b[0m\u001b[0mtestpass\u001b[0m\u001b[0;34m)\u001b[0m\u001b[0;34m)\u001b[0m\u001b[0;34m:\u001b[0m\u001b[0;34m\u001b[0m\u001b[0m\n\u001b[0m\u001b[1;32m     15\u001b[0m         \u001b[0;32mif\u001b[0m \u001b[0mtestpass\u001b[0m\u001b[0;34m[\u001b[0m\u001b[0mi\u001b[0m\u001b[0;34m]\u001b[0m \u001b[0;34m==\u001b[0m \u001b[0mline\u001b[0m\u001b[0;34m:\u001b[0m\u001b[0;34m\u001b[0m\u001b[0m\n\u001b[1;32m     16\u001b[0m             \u001b[0mresult\u001b[0m\u001b[0;34m.\u001b[0m\u001b[0mwrite\u001b[0m\u001b[0;34m(\u001b[0m\u001b[0mstr\u001b[0m\u001b[0;34m(\u001b[0m\u001b[0mcount\u001b[0m\u001b[0;34m)\u001b[0m \u001b[0;34m+\u001b[0m \u001b[0;34m\"\\t\"\u001b[0m \u001b[0;34m+\u001b[0m\u001b[0mstr\u001b[0m\u001b[0;34m(\u001b[0m\u001b[0mi\u001b[0m\u001b[0;34m)\u001b[0m\u001b[0;34m+\u001b[0m \u001b[0;34m\"\\t\"\u001b[0m \u001b[0;34m+\u001b[0m \u001b[0mline\u001b[0m\u001b[0;34m)\u001b[0m\u001b[0;34m\u001b[0m\u001b[0m\n",
        "\u001b[0;31mKeyboardInterrupt\u001b[0m: "
       ]
      }
     ],
     "prompt_number": 19
    },
    {
     "cell_type": "code",
     "collapsed": false,
     "input": [
      "import time\n",
      "%matplotlib inline\n",
      "\n",
      "output = open(\"/Users/liyue/research/DATA/12306/output.txt\",\"r\")\n",
      "lines = output.readlines()\n",
      "xpoints = [0]\n",
      "ypoints = [0]\n",
      "lastind = 1\n",
      "total = 0\n",
      "for each in lines:\n",
      "    point = each.split()\n",
      "    total+=1\n",
      "    if int(point[0]) != lastind:\n",
      "        xpoints.append(lastind)\n",
      "        ypoints.append(total)\n",
      "        lastind = int(point[0])\n",
      "        \n",
      "\n",
      "print len(xpoints)\n",
      "print len(ypoints)\n",
      "print ypoints[:10]\n",
      "import matplotlib.pyplot as plt\n",
      "plt.plot(xpoints,ypoints)\n",
      "#plt.xscale('log', nonposy='clip')\n",
      "#plt.yscale('log', nonposy='clip')\n",
      "plt.ylabel('cracked number')\n",
      "plt.xlabel('guessing number')\n",
      "plt.show()"
     ],
     "language": "python",
     "metadata": {},
     "outputs": [
      {
       "output_type": "stream",
       "stream": "stdout",
       "text": [
        "22505\n",
        "22505\n",
        "[0, 329, 423, 510, 551, 583, 629, 759, 786, 872]\n"
       ]
      },
      {
       "metadata": {},
       "output_type": "display_data",
       "png": "[encoded data removed]",
       "text": [
        "<matplotlib.figure.Figure at 0x10f6e00d0>"
       ]
      }
     ],
     "prompt_number": 43
    },
    {
     "cell_type": "code",
     "collapsed": false,
     "input": [],
     "language": "python",
     "metadata": {},
     "outputs": [],
     "prompt_number": 20
    },
    {
     "cell_type": "code",
     "collapsed": false,
     "input": [],
     "language": "python",
     "metadata": {},
     "outputs": []
    }
   ],
   "metadata": {}
  }
 ]
}