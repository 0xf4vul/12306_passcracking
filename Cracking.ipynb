{
 "metadata": {
  "name": "",
  "signature": "sha256:7ac48e60eaeecc6d8202eb031c9a5cd0c7fe3cdf487d489845d2f653f47990e7"
 },
 "nbformat": 3,
 "nbformat_minor": 0,
 "worksheets": [
  {
   "cells": [
    {
     "cell_type": "code",
     "collapsed": false,
     "input": [
      "import time\n",
      "%matplotlib inline\n",
      "\n",
      "output = open(\"PCFG_output.txt\",\"r\")\n",
      "lines = output.readlines()\n",
      "xpoints = [0]\n",
      "ypoints = [0]\n",
      "lastind = 1\n",
      "total = 0\n",
      "for each in lines:\n",
      "    point = each.split()\n",
      "    total+=1\n",
      "    if int(point[0]) != lastind:\n",
      "        xpoints.append(lastind)\n",
      "        ypoints.append(total)\n",
      "        lastind = int(point[0])\n",
      "output.close()\n",
      "\n",
      "output = open(\"output_personalPCFG.txt\",\"r\")\n",
      "lines = output.readlines()\n",
      "x2points = [0]\n",
      "y2points = [0]\n",
      "lastind = 1\n",
      "total = 0\n",
      "for each in lines:\n",
      "    point = each.split()\n",
      "    total+=1\n",
      "    if int(point[0]) != lastind:\n",
      "        x2points.append(lastind)\n",
      "        y2points.append(total)\n",
      "        lastind = int(point[0])        \n",
      "\n",
      "output = open(\"output_personalPCFG_guessmatch.txt\",\"r\")\n",
      "lines = output.readlines()\n",
      "x3points = [0]\n",
      "y3points = [0]\n",
      "lastind = 1\n",
      "total = 0\n",
      "for each in lines:\n",
      "    point = each.split()\n",
      "    total+=1\n",
      "    if int(point[0]) != lastind:\n",
      "        x3points.append(lastind)\n",
      "        y3points.append(total)\n",
      "        lastind = int(point[0])     \n",
      "\n",
      "\n",
      "\n",
      "\n",
      "\n",
      "\n",
      "print len(x2points)\n",
      "print len(y2points)\n",
      "print ypoints[:10]\n",
      "import matplotlib.pyplot as plt\n",
      "plt.plot(xpoints,ypoints,label=\"PCFG\")\n",
      "plt.plot(x2points,y2points,label=\"personalPCFG\")\n",
      "plt.plot(x3points,y3points,label=\"personalPCFG-guessing\")\n",
      "#plt.xscale('log', nonposy='clip')\n",
      "#plt.yscale('log', nonposy='clip')\n",
      "plt.ylabel('cracked number')\n",
      "plt.xlabel('guessing number')\n",
      "plt.legend()\n",
      "axes = plt.gca()\n",
      "axes.set_xlim([0,4*10**8])\n",
      "plt.show()"
     ],
     "language": "python",
     "metadata": {},
     "outputs": [
      {
       "output_type": "stream",
       "stream": "stdout",
       "text": [
        "27380\n",
        "27380\n",
        "[0, 329, 423, 510, 551, 583, 629, 759, 786, 872]\n"
       ]
      },
      {
       "metadata": {},
       "output_type": "display_data",
       "png": "[encoded data removed]",
       "text": [
        "<matplotlib.figure.Figure at 0x109ff8cd0>"
       ]
      }
     ],
     "prompt_number": 21
    },
    {
     "cell_type": "code",
     "collapsed": false,
     "input": [
      "output = open(\"output_personalPCFG.txt\",\"r\")\n",
      "kk = output.readlines()\n",
      "tmp = []\n",
      "for each in kk:\n",
      "    tmp.append(each.split()[1])\n",
      "print len(set(tmp))"
     ],
     "language": "python",
     "metadata": {},
     "outputs": [
      {
       "output_type": "stream",
       "stream": "stdout",
       "text": [
        "15915\n"
       ]
      }
     ],
     "prompt_number": 4
    },
    {
     "cell_type": "code",
     "collapsed": false,
     "input": [],
     "language": "python",
     "metadata": {},
     "outputs": [],
     "prompt_number": 7
    },
    {
     "cell_type": "code",
     "collapsed": false,
     "input": [],
     "language": "python",
     "metadata": {},
     "outputs": []
    }
   ],
   "metadata": {}
  }
 ]
}