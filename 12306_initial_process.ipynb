{
 "metadata": {
  "name": "",
  "signature": "sha256:2d8bd5fd0ebc94b6afe96d9c2c66e0a4a24bbc33e7f795fb6bee969fc5bb242b"
 },
 "nbformat": 3,
 "nbformat_minor": 0,
 "worksheets": [
  {
   "cells": [
    {
     "cell_type": "code",
     "collapsed": false,
     "input": [
      "from IPython.display import clear_output\n",
      "import pinyin\n",
      "import operator\n",
      "import re\n",
      "import random\n",
      "import time\n",
      "\n",
      "\n",
      "workspace = \"/Users/liyue/research/DATA/12306/\"\n",
      "def lcs(a, b):\n",
      "    lengths = [[0 for j in range(len(b)+1)] for i in range(len(a)+1)]\n",
      "    # row 0 and column 0 are initialized to 0 already\n",
      "    for i, x in enumerate(a):\n",
      "        for j, y in enumerate(b):\n",
      "            if x == y:\n",
      "                lengths[i+1][j+1] = lengths[i][j] + 1\n",
      "            else:\n",
      "                lengths[i+1][j+1] = \\\n",
      "                    max(lengths[i+1][j], lengths[i][j+1])\n",
      "    # read the substring out from the matrix\n",
      "    result = \"\"\n",
      "    x, y = len(a), len(b)\n",
      "    while x != 0 and y != 0:\n",
      "        if lengths[x][y] == lengths[x-1][y]:\n",
      "            x -= 1\n",
      "        elif lengths[x][y] == lengths[x][y-1]:\n",
      "            y -= 1\n",
      "        else:\n",
      "            assert a[x-1] == b[y-1]\n",
      "            result = a[x-1] + result\n",
      "            x -= 1\n",
      "            y -= 1\n",
      "    return result\n",
      "\n",
      "def lccs(S,T): \n",
      "    m = len(S) \n",
      "    n = len(T) \n",
      "    counter = [[0]*(n+1) for x in range(m+1)] \n",
      "    longest = 0 \n",
      "    lcs_set = set() \n",
      "    for i in range(m): \n",
      "        for j in range(n): \n",
      "            if S[i] == T[j]: \n",
      "                c = counter[i][j] + 1 \n",
      "                counter[i+1][j+1] = c \n",
      "                if c > longest: \n",
      "                    lcs_set = set() \n",
      "                    longest = c \n",
      "                    lcs_set.add(S[i-c+1:i+1]) \n",
      "                elif c == longest: \n",
      "                    lcs_set.add(S[i-c+1:i+1]) \n",
      "    if len(lcs_set) > 0:\n",
      "        return lcs_set.pop()\n",
      "    else:\n",
      "        return \"\"\n",
      "\n",
      "def seg(pwd):\n",
      "    lowerc = \"abcdefghijklmnopqrstuvwxyz\"\n",
      "    upperc = lowerc.upper()\n",
      "    number = \"1234567890\"\n",
      "    out = \"\"\n",
      "    lastchar = \"\"\n",
      "    counter = 0\n",
      "    segdic = {}\n",
      "    for i in range(0,len(pwd)):\n",
      "        '''\n",
      "        if eachchar in lowerc:\n",
      "            if lastchar != \"L\":\n",
      "                out += str(counter)\n",
      "                out += \"L\"\n",
      "                counter = 1\n",
      "            else:\n",
      "                counter +=1\n",
      "            lastchar = \"L\"\n",
      "        elif eachchar in upperc:\n",
      "            if lastchar != \"U\":\n",
      "                out += str(counter)\n",
      "                out += \"U\"\n",
      "                counter = 1\n",
      "            else:\n",
      "                counter += 1\n",
      "            lastchar = \"U\"\n",
      "        '''\n",
      "        if pwd[i] in lowerc or pwd[i] in upperc:\n",
      "            if lastchar != \"L\":\n",
      "                dicentry = lastchar + str(counter)\n",
      "                if dicentry in segdic:\n",
      "                    segdic[dicentry].append(pwd[i-counter:i])\n",
      "                else:\n",
      "                    segdic[dicentry] = [pwd[i-counter:i]]\n",
      "                out += str(counter)\n",
      "                out += \"L\"\n",
      "                counter = 1\n",
      "            else:\n",
      "                counter += 1\n",
      "            lastchar = \"L\"\n",
      "        elif pwd[i] in number:\n",
      "            if lastchar != \"D\":\n",
      "                dicentry = lastchar + str(counter)\n",
      "                if dicentry in segdic:\n",
      "                    segdic[dicentry].append(pwd[i-counter:i])\n",
      "                else:\n",
      "                    segdic[dicentry] = [pwd[i-counter:i]]\n",
      "                out += str(counter)\n",
      "                out += \"D\"\n",
      "                counter = 1\n",
      "            else:\n",
      "                counter += 1\n",
      "            lastchar = \"D\"\n",
      "        else:\n",
      "            if lastchar != \"S\":\n",
      "                dicentry = lastchar + str(counter)\n",
      "                if dicentry in segdic:\n",
      "                    segdic[dicentry].append(pwd[i-counter:i])\n",
      "                else:\n",
      "                    segdic[dicentry] = [pwd[i-counter:i]]\n",
      "                out += str(counter)\n",
      "                out += \"S\"\n",
      "                counter = 1\n",
      "            else:\n",
      "                counter += 1\n",
      "            lastchar = \"S\"\n",
      "    dicentry = lastchar + str(counter)\n",
      "    if dicentry in segdic:\n",
      "        segdic[dicentry].append(pwd[i-counter+1:i+1])\n",
      "    else:\n",
      "        segdic[dicentry] = [pwd[i-counter+1:i+1]]\n",
      "    segdic.pop(\"0\")\n",
      "    out += str(counter)\n",
      "    return (out[1:],segdic)\n",
      "\n",
      "def distri(mylist,m):\n",
      "    disdict = {}\n",
      "    for each in mylist:\n",
      "        if each[m] in disdict:\n",
      "            disdict[each[m]] += 1\n",
      "        else:\n",
      "            disdict[each[m]] = 1\n",
      "    sorted_x = sorted(disdict.items(), key=operator.itemgetter(1))\n",
      "    result = []\n",
      "    for i in range(len(sorted_x)-1, len(sorted_x)-51,-1):\n",
      "        result.append([sorted_x[i][0],sorted_x[i][1]/float(len(mylist))])\n",
      "    return result\n",
      "\n",
      "def greatest(mylist):\n",
      "    c = 0\n",
      "    st = \"\"\n",
      "    for each in mylist:\n",
      "        if len(each) > c:\n",
      "            c = len(each)\n",
      "            st = each\n",
      "    return st\n",
      "\n",
      "def cvg(mylist,thre): #(LISTNAME, PWD, REF, REFLEN, THRESHOLD)\n",
      "    pwd = mylist[0]\n",
      "    bd = mylist[1]\n",
      "    name = mylist[2]\n",
      "    email = mylist[3]\n",
      "    cell = mylist[4]\n",
      "    acctn = mylist[5]\n",
      "    IDN = mylist[6]\n",
      "    struct = mylist[7]\n",
      "    structdic = mylist[8]\n",
      "    cvg = \"\"\n",
      "    for eachstruct in structdic:\n",
      "        if \"L\" in eachstruct:\n",
      "            for item in structdic[eachstruct]:\n",
      "                x = lcs(item,name)\n",
      "                y = lcs(item,email)\n",
      "                z = lcs(item,acctn)\n",
      "                gg = greatest([x,y,z])\n",
      "                if float(len(gg))/len(item) >= thre:\n",
      "                    cvg += gg\n",
      "        if \"D\" in eachstruct:\n",
      "            for item in structdic[eachstruct]:\n",
      "                x = lcs(item,bd)\n",
      "                y = lcs(item,email)\n",
      "                z = lcs(item,cell)\n",
      "                a = lcs(item,IDN)\n",
      "                b = lcs(item,acctn)\n",
      "                gg = greatest([x,y,z,a,b])\n",
      "                if float(len(gg))/len(item) >= thre:\n",
      "                    cvg += gg\n",
      "    return cvg\n",
      "\n",
      "def cvgmatch(infolist,seg):\n",
      "    pwd = infolist[0]\n",
      "    bd = infolist[1]\n",
      "    name = infolist[-1]\n",
      "    email = infolist[3]\n",
      "    cell = infolist[4]\n",
      "    acctn = infolist[5]\n",
      "    IDN = infolist[6]\n",
      "    match = False\n",
      "    fullname = pinyin.get(name)\n",
      "    ininame = pinyin.get_initial(name).replace(\" \",\"\")\n",
      "    for each in (fullname,ininame):\n",
      "        if seg in each:\n",
      "            match = True\n",
      "    if seg in bd or seg in email or seg in cell or seg in acctn or seg in IDN:\n",
      "        match = True\n",
      "    return match\n",
      "    \n",
      "def newcvg(infolist,windowsize):\n",
      "    pwd = infolist[0].lower()\n",
      "    matchtag = [0] * len(pwd)\n",
      "    if len(pwd) < windowsize:\n",
      "        return 0\n",
      "    else:\n",
      "        for i in range(0,len(pwd)-windowsize+1):\n",
      "            stringseg = pwd[i:i+windowsize]\n",
      "            if cvgmatch(infolist,stringseg):\n",
      "                for j in range(i,i+windowsize):\n",
      "                    matchtag[j] = 1\n",
      "    coverlength = 0.0\n",
      "    for each in matchtag:\n",
      "        coverlength += each\n",
      "    return coverlength/len(pwd)\n",
      "        \n",
      "    \n",
      "\n",
      "def get_all_substrings(input_string):\n",
      "  length = len(input_string)\n",
      "  return [input_string[i:j+1] for i in xrange(length) for j in xrange(i,length)]\n",
      "\n",
      "def matchbd(seg,bd):\n",
      "    #YYYYMMDD, YYYYMDD, YYYYMD, YYMMDD, YYMDD, YYMD, MMDD, MDD, MD, MMDDYY, MMDDYYYY, DDMMYY, DDMMYYYY,\n",
      "    if re.search('[a-zA-Z]', seg) == None: #NO STRING\n",
      "        YYYY = bd[:4]\n",
      "        YY = bd[2:4]\n",
      "        MM = bd[4:6]\n",
      "        M = bd[5]\n",
      "        DD = bd[6:8]\n",
      "        D = bd[7]\n",
      "        trial = [YYYY+MM+DD, YYYY+M+DD, YYYY+M+D, YY+MM+DD, YY+M+DD, YY+M+D, YYYY+MM, YYYY+DD, YYYY, YY, MM+DD, M+DD, M+D,\\\n",
      "                 MM+DD+YY, MM+DD+YYYY, DD+MM+YY, DD+MM+YYYY]\n",
      "        if seg in trial:\n",
      "            return 1\n",
      "    return 0\n",
      "def matchname(seg,name):\n",
      "    fullname = pinyin.get(name)\n",
      "    ininame = pinyin.get_initial(name).replace(\" \",\"\")\n",
      "    if seg in (fullname,ininame):\n",
      "        return 1\n",
      "    return 0\n",
      "def matchemail(seg,email):\n",
      "    emailpart = email.split(\"@\")\n",
      "    emailservice = emailpart[1].split(\".\")[0]\n",
      "    emailpart.append(emailservice)\n",
      "    for each in emailpart:\n",
      "        if seg in emailpart:\n",
      "            return 1\n",
      "    return 0\n",
      "def matchcell(seg,cell):\n",
      "    if seg in cell and len(seg)>=4:\n",
      "        return 1\n",
      "def matchaccount(seg,acct):\n",
      "    if seg in acct and len(seg)>=4:\n",
      "        return 1\n",
      "def matchID(seg,ID):\n",
      "    if seg in ID and len(seg)>=4:\n",
      "        return 1\n",
      "\n",
      "\n",
      "    \n",
      "def matchsub(mystring,listitem):\n",
      "    result = mystring.lower()\n",
      "    newform = \"\"\n",
      "    if len(mystring) >= 2:\n",
      "        bd = listitem[1]\n",
      "        name = listitem[2]\n",
      "        email = listitem[3]\n",
      "        cell = listitem[4]\n",
      "        account = listitem[5]\n",
      "        ID = listitem[6]\n",
      "        name = listitem[-1]\n",
      "        sub = get_all_substrings(mystring)\n",
      "        sub.sort(key=len, reverse=True)\n",
      "        rec = []\n",
      "        tag = \"\"\n",
      "        for each in sub:\n",
      "            if len(each) >= 2:\n",
      "                if matchbd(each,bd) == 1:\n",
      "                    rec = result.split(each)\n",
      "                    tag = \"[BD]\"\n",
      "                    break\n",
      "                if matchname(each,name) == 1:\n",
      "                    rec = result.split(each)\n",
      "                    tag = \"[NAME]\"\n",
      "                    break\n",
      "                if matchemail(each,email) == 1:\n",
      "                    rec = result.split(each)\n",
      "                    tag = \"[EMAIL]\"\n",
      "                    break\n",
      "                if matchcell(each,cell) == 1:\n",
      "                    rec = result.split(each)\n",
      "                    tag = \"[CELL]\"\n",
      "                    break\n",
      "                if matchaccount(each,account) == 1:\n",
      "                    rec = result.split(each)\n",
      "                    tag = \"[ACCT]\"\n",
      "                    break\n",
      "                if matchID(each,ID) == 1:\n",
      "                    rec = result.split(each)\n",
      "                    tag = \"[ID]\"\n",
      "                    break\n",
      "            else:\n",
      "                break\n",
      "        if len(rec) > 0:\n",
      "            for i in range (0,len(rec)-1):\n",
      "                newform += matchsub(rec[i],listitem) + tag\n",
      "            newform += matchsub(rec[-1],listitem)\n",
      "        else:\n",
      "            newform = seg(mystring)[0]  #When PCFG-style is needed\n",
      "            #newform = mystring\n",
      "    return newform\n",
      "            \n",
      "def matchpersonal(listitem):\n",
      "    password = listitem[0]\n",
      "    return matchsub(password,listitem)\n",
      "    \n",
      "def matchpinyin(mystring,ptable):\n",
      "    result = mystring\n",
      "    mypinyin = \"\"\n",
      "    sub = get_all_substrings(mystring)\n",
      "    sub.sort(key=len,reverse=True)\n",
      "    rec = []\n",
      "    for each in sub:\n",
      "        if each in ptable:#A Match\n",
      "            rec = result.split(each)\n",
      "            tag = each\n",
      "            break\n",
      "    if len(rec) > 0:\n",
      "        for i in range (0,len(rec)-1):\n",
      "            mypinyin += matchpinyin(rec[i],ptable) + tag + \"\\t\"\n",
      "        mypinyin += matchpinyin(rec[-1],ptable)\n",
      "    else:\n",
      "        mypinyin = \"\"\n",
      "    return mypinyin\n",
      "    \n",
      "def sortlist(mylist,k):\n",
      "    mydic = {}\n",
      "    for each in mylist:\n",
      "        if each in mydic:\n",
      "            mydic[each] += 1\n",
      "        else:\n",
      "            mydic[each] = 1\n",
      "    sorted_x = sorted(mydic.items(), key=operator.itemgetter(1))\n",
      "    outline = \"\"\n",
      "    for i in range(len(sorted_x)-1,len(sorted_x)-k-1,-1):\n",
      "        try:\n",
      "            outline += \"|\"+str(sorted_x[i][0]) + \"|\"+ str(sorted_x[i][1])+\"|\"+str(sorted_x[i][1]/float(len(mylist))*100) [:4]+\"%\\n\"\n",
      "        except:\n",
      "            outline += \"|\"+str(sorted_x[i][0]) + \"|\"+ str(sorted_x[i][1])+\"|\"+str(sorted_x[i][1]/float(len(mylist))*100)+\"%\\n\"\n",
      "    return outline\n",
      "def addstring(mlist):\n",
      "    outline = \"\"\n",
      "    for i in range(0,len(mlist[0])):\n",
      "        for each in mlist:\n",
      "            outline += each[i]\n",
      "        outline += \"\\n\"\n",
      "    return outline\n",
      "    "
     ],
     "language": "python",
     "metadata": {},
     "outputs": [],
     "prompt_number": 7
    },
    {
     "cell_type": "code",
     "collapsed": false,
     "input": [
      "###USED for Testing\n",
      "\n",
      "listone = mpwd[0]\n",
      "listone[0] = \"0405198726@\"\n",
      "print listone\n",
      "print newcvg(listone,3)\n",
      "\n",
      "print \"XXXXXXXXX\"\n",
      "print matchpersonal(listone)\n",
      "print \"6837605\" in \"z6837605\"\n",
      "count = 0\n",
      "\n",
      "com='''for each in mpwd:\n",
      "    passw = each[5]\n",
      "    keywords = [\"chepiao\",\"dingpiao\",\"chapiao\",\"maipiao\",\"goupiao\",\"huoche\",\"train\",\"railway\",\"ticket\",\"piao\"]\n",
      "    for word in keywords:\n",
      "        if word in passw:\n",
      "            count+=1\n",
      "            if word == \"piao\":\n",
      "                print passw, each[2]\n",
      "            break\n",
      "print count\n",
      "print len(mpwd)\n",
      "print float(count)/131389\n",
      "'''"
     ],
     "language": "python",
     "metadata": {},
     "outputs": [
      {
       "output_type": "stream",
       "stream": "stdout",
       "text": [
        "['0405198726@', '19870504', 'zhengyifeng', '274667266@qq.com', '15068860664', 'z6837605', '332522198705040011', 'D7', {'D7': ['6837605']}, '\\xe9\\x83\\x91\\xe4\\xb8\\x80\\xe5\\xb3\\xb0']\n",
        "0.818181818182\n",
        "XXXXXXXXX\n",
        "[BD]26@\n",
        "True\n"
       ]
      }
     ],
     "prompt_number": 4
    },
    {
     "cell_type": "code",
     "collapsed": false,
     "input": [
      "ptable =['zhi', 'chi', 'shi', 'ri', 'zi', 'ci', 'si', 'a', 'ba', 'pa', 'ma', 'fa', 'da', 'ta','na',\n",
      "'la', 'ga', 'ka', 'ha', 'zha', 'cha', 'sha', 'za', 'ca', 'sa', 'o', 'bo', 'po', 'mo', 'fo', \n",
      "'lo', 'e', 'me', 'de', 'te', 'ne', 'le', 'ge', 'ke', 'he', 'zhe', 'che', 'she', 're', 'ze', \n",
      "'ce', 'se', 'ai', 'bai', 'pai', 'mai', 'dai', 'tai', 'nai', 'lai', 'gai', 'kai', 'hai', 'zhai', \n",
      "'chai', 'shai', 'zai', 'cai', 'sai', 'ei', 'bei', 'pei', 'mei', 'fei', 'dei', 'tei', 'nei', 'lei',\n",
      "'gei', 'kei', 'hei', 'zhei', 'shei', 'zei', 'sei', 'ao', 'bao', 'pao', 'mao', 'dao', 'tao', 'nao', \n",
      "'lao', 'gao', 'kao', 'hao', 'zhao', 'chao', 'shao', 'rao', 'zao', 'cao', 'sao', 'ou', 'pou', 'mou',\n",
      "'fou', 'dou', 'tou', 'nou', 'lou', 'gou', 'kou', 'hou', 'zhou', 'chou', 'shou', 'rou', 'zou', \n",
      "'cou', 'sou', 'an', 'ban', 'pan', 'man', 'fan', 'dan', 'tan', 'nan', 'lan', 'gan', 'kan', 'han', \n",
      "'zhan', 'chan', 'shan', 'ran', 'zan', 'can', 'san', 'en', 'ben', 'pen', 'men', 'fen', 'den', 'nen',\n",
      "'gen', 'ken', 'hen', 'zhen', 'chen', 'shen', 'ren', 'zen', 'cen', 'sen', 'ang', 'bang', 'pang', \n",
      "'mang', 'fang', 'dang', 'tang', 'nang', 'lang', 'gang', 'kang', 'hang', 'zhang', 'chang', 'shang', \n",
      "'rang', 'zang', 'cang', 'sang', 'eng', 'beng', 'peng', 'meng', 'feng', 'deng', 'teng', 'neng', \n",
      "'leng', 'geng', 'keng', 'heng', 'zheng', 'cheng', 'sheng', 'reng', 'zeng', 'ceng', 'seng', 'er', \n",
      "'yi', 'bi', 'pi', 'mi', 'di', 'ti', 'ni', 'li', 'ji', 'qi', 'xi', 'ya', 'dia', 'nia', 'lia', 'jia',\n",
      "'qia', 'xia', 'yo', 'ye', 'bie', 'pie', 'mie', 'die', 'tie', 'nie', 'lie', 'jie', 'qie', 'xie', \n",
      "'yai', 'yao', 'biao', 'piao', 'miao', 'fiao', 'diao', 'tiao', 'niao', 'liao', 'jiao', 'qiao', \n",
      "'xiao', 'you', 'miu', 'diu', 'niu', 'liu', 'jiu', 'qiu', 'xiu', 'yan', 'bian', 'pian', 'mian', \n",
      "'dian', 'tian', 'nian', 'lian', 'jian', 'qian', 'xian', 'yin', 'bin', 'pin', 'min', 'nin', 'lin', \n",
      "'jin', 'qin', 'xin', 'yang', 'biang', 'diang', 'niang', 'liang', 'jiang', 'qiang', 'xiang', 'ying',\n",
      "'bing', 'ping', 'ming', 'ding', 'ting', 'ning', 'ling', 'jing', 'qing', 'xing', 'wu', 'bu', 'pu', \n",
      "'mu', 'fu', 'du', 'tu', 'nu', 'lu', 'gu', 'ku', 'hu', 'zhu', 'chu', 'shu', 'ru', 'zu', 'cu', 'su', \n",
      "'wa', 'gua', 'kua', 'hua', 'zhua', 'chua', 'shua', 'rua', 'wo', 'duo', 'tuo', 'nuo', 'luo', 'guo', \n",
      "'kuo', 'huo', 'zhuo', 'chuo', 'shuo', 'ruo', 'zuo', 'cuo', 'suo', 'wai', 'guai', 'kuai', 'huai', \n",
      "'zhuai', 'chuai', 'shuai', 'wei', 'dui', 'tui', 'gui', 'kui', 'hui', 'zhui', 'chui', 'shui', 'rui',\n",
      "'zui', 'cui', 'sui', 'wan', 'duan', 'tuan', 'nuan', 'luan', 'guan', 'kuan', 'huan', 'zhuan', \n",
      "'chuan', 'shuan', 'ruan', 'zuan', 'cuan', 'suan', 'wen', 'dun', 'tun', 'nun', 'lun', 'gun', 'kun',\n",
      "'hun', 'zhun', 'chun', 'shun', 'run', 'zun', 'cun', 'sun', 'wang', 'guang', 'kuang', 'huang', \n",
      "'zhuang', 'chuang', 'shuang', 'weng', 'dong', 'tong', 'nong', 'long', 'gong', 'kong', 'hong', \n",
      "'zhong', 'chong', 'shong', 'rong', 'zong', 'cong', 'song', 'yu', 'nv', 'lv', 'ju', 'qu', 'xu',\n",
      "'yue', 'nve', 'lve', 'jue', 'que', 'xue', 'yuan', 'juan', 'quan', 'xuan', 'yun', 'lvn', \n",
      "'jun', 'qun', 'xun', 'yong', 'jiong', 'qiong', 'xiong']\n",
      "\n",
      "print len(ptable)\n",
      "print matchpinyin(\"huochepiaozyl123piaoliang\",ptable)\n",
      "\n",
      "for tag in (\"[NAME]\",\"[BD]\",\"[EMAIL]\",\"[CELL]\",\"[ACCT]\",\"[ID]\"):\n",
      "    print tag\n",
      "\n",
      "pinyinlist = []\n",
      "stringlist = []\n",
      "stringmatchlist = []\n",
      "for each in mpwd:\n",
      "    password = each[0]\n",
      "    remainder = matchsub(password,each)\n",
      "    remainder2 = remainder\n",
      "    for tag in (\"[NAME]\",\"[BD]\",\"[EMAIL]\",\"[CELL]\",\"[ACCT]\",\"[ID]\"):\n",
      "        remainder = remainder.replace(tag,\" \")\n",
      "        remainder2 = remainder2.replace(tag,\"\")\n",
      "        \n",
      "    toproc2 = re.sub(\"[^a-zA-Z]+\", \"\", remainder2)\n",
      "    stringlist.append(toproc2)\n",
      "    stringmatchlist.append(matchpinyin(toproc2,ptable).replace(\"\\t\",\"\"))\n",
      "    for each in remainder.split():\n",
      "        toproc = re.sub(\"[^a-zA-Z]+\", \"\", each)\n",
      "        pinform = matchpinyin(toproc,ptable)\n",
      "        add = pinform.split('\\t')\n",
      "        pinyinlist.extend(add)\n",
      "stringlist = filter(None,stringlist)\n",
      "stringmatchlist = filter(None,stringmatchlist)\n",
      "pinyinlist = filter(None, pinyinlist)"
     ],
     "language": "python",
     "metadata": {},
     "outputs": [
      {
       "output_type": "stream",
       "stream": "stdout",
       "text": [
        "420\n",
        "huo\tche\tpiao\tpiao\tliang\t\n",
        "[NAME]\n",
        "[BD]\n",
        "[EMAIL]\n",
        "[CELL]\n",
        "[ACCT]\n",
        "[ID]\n"
       ]
      }
     ],
     "prompt_number": 3
    },
    {
     "cell_type": "code",
     "collapsed": false,
     "input": [
      "x = sortlist(stringlist,20)\n",
      "y = sortlist(stringmatchlist,20)\n",
      "z = sortlist(pinyinlist,20)\n",
      "print len(stringlist)\n",
      "fout = open(workspace+\"simpledic\",\"w\")\n",
      "for each in stringlist:\n",
      "    fout.write(each + \"\\n\")\n",
      "fout.close()\n",
      "print addstring([x.split('\\n'),y.split('\\n'),z.split('\\n')])"
     ],
     "language": "python",
     "metadata": {},
     "outputs": [
      {
       "output_type": "stream",
       "stream": "stdout",
       "text": [
        "61166\n",
        "|a|6240|10.2%|a|9513|23.2%|a|14270|21.7%\n",
        "|q|1409|2.30%|aa|892|2.18%|o|3178|4.85%\n",
        "|z|1026|1.67%|e|827|2.02%|e|2991|4.56%\n",
        "|w|889|1.45%|o|729|1.78%|wo|2122|3.23%\n",
        "|aa|810|1.32%|woaini|551|1.34%|ai|1722|2.62%\n",
        "|asd|598|0.97%|li|493|1.20%|ni|1409|2.15%\n",
        "|woaini|526|0.85%|loe|481|1.17%|li|1032|1.57%\n",
        "|as|487|0.79%|er|404|0.98%|lo|1004|1.53%\n",
        "|qq|486|0.79%|wang|324|0.79%|ma|845|1.28%\n",
        "|qwe|472|0.77%|liu|304|0.74%|er|821|1.25%\n",
        "|s|444|0.72%|zhang|271|0.66%|xiao|729|1.11%\n",
        "|li|441|0.72%|aaa|263|0.64%|shi|679|1.03%\n",
        "|x|385|0.62%|wa|258|0.63%|yu|601|0.91%\n",
        "|abc|357|0.58%|wo|236|0.57%|wang|600|0.91%\n",
        "|l|335|0.54%|yu|229|0.56%|le|541|0.82%\n",
        "|love|309|0.50%|oo|194|0.47%|wei|504|0.76%\n",
        "|wang|292|0.47%|chen|175|0.42%|da|494|0.75%\n",
        "|liu|290|0.47%|ma|173|0.42%|liu|477|0.72%\n",
        "|c|282|0.46%|ai|162|0.39%|de|442|0.67%\n",
        "|qw|252|0.41%|woai|152|0.37%|zhang|420|0.64%\n",
        "\n"
       ]
      },
      {
       "output_type": "stream",
       "stream": "stdout",
       "text": [
        "\n"
       ]
      }
     ],
     "prompt_number": 7
    },
    {
     "cell_type": "code",
     "collapsed": false,
     "input": [
      "fperfect = open(\"perfectdic\",\"w\")\n",
      "perfectdic = []\n",
      "for each in mpwd:\n",
      "    for item in each[-2]:\n",
      "        if \"L\" in item:\n",
      "            for letter in each[-2][item]:\n",
      "                perfectdic.append(letter)\n",
      "\n",
      "perfectset = list(set(perfectdic))\n",
      "for each in perfectset:\n",
      "    fperfect.write(each+\"\\n\")\n",
      "fperfect.close()"
     ],
     "language": "python",
     "metadata": {},
     "outputs": [],
     "prompt_number": 10
    },
    {
     "cell_type": "code",
     "collapsed": false,
     "input": [
      "f = open(\"/Users/liyue/research/DATA/12306/data\",\"r\")\n",
      "lines = f.readlines()\n",
      "f.close()\n",
      "segdic = {}\n",
      "D7 = []\n",
      "D6 = []\n",
      "D8 = []\n",
      "mpwd = []\n",
      "forpwd = []\n",
      "for eachline in lines:\n",
      "    line = eachline.split(\"----\")\n",
      "    email = line[0]\n",
      "    pwd = line[1]\n",
      "    name = pinyin.get(line[2].decode(\"gbk\").encode('utf-8'))\n",
      "    BD = line[3][6:14]\n",
      "    IDN = line[3]\n",
      "    ActN = line[4]\n",
      "    Tel = line[5]\n",
      "    myseg = seg(pwd)\n",
      "    oriname = line[2].decode(\"gbk\").encode('utf-8')\n",
      "    if len(IDN) == 18:\n",
      "        mpwd.append([pwd,BD,name,email,Tel,ActN,IDN,myseg[0],myseg[1],oriname])\n",
      "    else:\n",
      "        forpwd.append([pwd,BD,name,email,Tel,ActN,IDN,myseg[0],myseg[1],oriname])\n",
      "    if myseg[0] in segdic:\n",
      "        segdic[myseg[0]] += 1\n",
      "    else:\n",
      "        segdic[myseg[0]] = 1\n",
      "print len(forpwd)\n"
     ],
     "language": "python",
     "metadata": {},
     "outputs": [
      {
       "output_type": "stream",
       "stream": "stdout",
       "text": [
        "264\n"
       ]
      }
     ],
     "prompt_number": 2
    },
    {
     "cell_type": "code",
     "collapsed": false,
     "input": [
      "malepwd = []\n",
      "femalepwd = []\n",
      "youngpwd = []\n",
      "adultpwd = []\n",
      "oldpwd = []\n",
      "\n",
      "for each in mpwd:\n",
      "    if int(each[6][-2]) % 2 == 0:\n",
      "        femalepwd.append(each)\n",
      "    else:\n",
      "        malepwd.append(each)\n",
      "    if (2014 - int(each[1][:4])) > 30:\n",
      "        oldpwd.append(each)\n",
      "    elif (2014-int(each[1][:4])) < 25:\n",
      "        youngpwd.append(each)\n",
      "    else:\n",
      "        adultpwd.append(each)\n",
      "print len(femalepwd),len(malepwd[0:len(femalepwd)]),  len(youngpwd),len(adultpwd),len(oldpwd)\n",
      "newmalepwd = []\n",
      "\n",
      "for i in random.sample(range(0,len(malepwd)),len(femalepwd)):\n",
      "    newmalepwd.append(malepwd[i])\n",
      "print len(newmalepwd)\n",
      "\n",
      "\n",
      "\n",
      "#for targetpwdlist in(newmalepwd,femalepwd,oldpwd,youngpwd,adultpwd):\n",
      "if True:\n",
      "    targetpwdlist = mpwd\n",
      "    allform = []\n",
      "    for i in range(0,len(targetpwdlist)):\n",
      "        \n",
      "        myform = matchpersonal(targetpwdlist[i])\n",
      "        allform.append(myform)\n",
      "\n",
      "    print sortlist(allform,50)\n",
      "    print \">>>>>>>>>>\"\n",
      "        "
     ],
     "language": "python",
     "metadata": {},
     "outputs": []
    },
    {
     "cell_type": "code",
     "collapsed": false,
     "input": [
      "populardic = {}\n",
      "for personal in (\"[BD]\",\"[NAME]\",\"[EMAIL]\",\"[CELL]\",\"[ACCT]\",\"[ID]\"):\n",
      "    populardic[personal] = 0\n",
      "    for each in allform:\n",
      "        if personal in each:\n",
      "            populardic[personal]+=1\n",
      "    print \"|\" + personal + \"|\" + str(populardic[personal]) + \"|\" + str(populardic[personal]/131389.0)[:5] + \"|\"\n"
     ],
     "language": "python",
     "metadata": {},
     "outputs": [
      {
       "output_type": "stream",
       "stream": "stdout",
       "text": [
        "|[BD]|30874|0.234|\n",
        "|[NAME]|21161|0.161|\n",
        "|[EMAIL]|5359|0.040|\n",
        "|[CELL]|572|0.004|"
       ]
      },
      {
       "output_type": "stream",
       "stream": "stdout",
       "text": [
        "\n",
        "|[ACCT]|17069|0.129|\n",
        "|[ID]|2947|0.022|"
       ]
      },
      {
       "output_type": "stream",
       "stream": "stdout",
       "text": [
        "\n"
       ]
      }
     ],
     "prompt_number": 23
    },
    {
     "cell_type": "code",
     "collapsed": false,
     "input": [
      "com = '''for thre in range(0,10):\n",
      "    ttrate = 0\n",
      "    for i in range(0,len(mpwd)):\n",
      "        ttrate += len(cvg(mpwd[i],thre/10.0))/float(len(mpwd[i][0]))\n",
      "    print \"| \" + str(ttrate/len(mpwd))[:5] + \" |\"'''\n",
      "\n",
      "\n",
      "for window in range(1,8):\n",
      "    ttrate = 0\n",
      "    for i in range(0,len(mpwd)):\n",
      "        ttrate += newcvg(mpwd[i],window)\n",
      "        \n",
      "    print ttrate/len(mpwd)"
     ],
     "language": "python",
     "metadata": {},
     "outputs": [
      {
       "output_type": "stream",
       "stream": "stdout",
       "text": [
        "0.926415428733\n",
        "0.608551803874"
       ]
      },
      {
       "output_type": "stream",
       "stream": "stdout",
       "text": [
        "\n",
        "0.389267476492"
       ]
      },
      {
       "output_type": "stream",
       "stream": "stdout",
       "text": [
        "\n",
        "0.297213532991"
       ]
      },
      {
       "output_type": "stream",
       "stream": "stdout",
       "text": [
        "\n",
        "0.229256094278"
       ]
      },
      {
       "output_type": "stream",
       "stream": "stdout",
       "text": [
        "\n",
        "0.206562296166"
       ]
      },
      {
       "output_type": "stream",
       "stream": "stdout",
       "text": [
        "\n",
        "0.147586106296"
       ]
      },
      {
       "output_type": "stream",
       "stream": "stdout",
       "text": [
        "\n"
       ]
      }
     ],
     "prompt_number": 9
    },
    {
     "cell_type": "code",
     "collapsed": false,
     "input": [
      "leng = 0.0\n",
      "for each in mpwd:\n",
      "    leng+=len(each[0])\n",
      "print leng/len(mpwd)\n"
     ],
     "language": "python",
     "metadata": {},
     "outputs": [
      {
       "output_type": "stream",
       "stream": "stdout",
       "text": [
        "8.43781759626\n"
       ]
      }
     ],
     "prompt_number": 5
    },
    {
     "cell_type": "code",
     "collapsed": false,
     "input": [
      "#SHORTEST PASSWORD AND THE DISTRIBUTION OF PASSWORDS\n",
      "short =100\n",
      "for each in mpwd:\n",
      "    if short > len(each[0]):\n",
      "        short = len(each[0])\n",
      "    if len(each[0]) == 4:\n",
      "        print each[0]\n",
      "        print \"XX\"\n",
      "print short#THERE IS ONE PASSWORD OF LENGTH 4 (5700), all other passwords have longer length at least 7\n",
      "hello = distri(mpwd,0)\n",
      "for each in hello:\n",
      "    print \"|\"+each[0]+\"|\"+str(each[1]*100)[:5]+\"%|\"\n",
      "# FIND THE MOST FREQUEN STRUCTURE\n",
      "sorted_x = sorted(segdic.items(), key=operator.itemgetter(1))\n",
      "for i in range(len(sorted_x)-1,len(sorted_x)-21,-1):\n",
      "    print \"|\"+ sorted_x[i][0] + \"|\"+ str(sorted_x[i][1])+\"|\"+str(float(sorted_x[i][1])/len(lines)*100)[:5]+\"%|\""
     ],
     "language": "python",
     "metadata": {},
     "outputs": [
      {
       "output_type": "stream",
       "stream": "stdout",
       "text": [
        "5700\n",
        "XX\n",
        "4"
       ]
      },
      {
       "output_type": "stream",
       "stream": "stdout",
       "text": [
        "\n",
        "|123456|0.297%|"
       ]
      },
      {
       "output_type": "stream",
       "stream": "stdout",
       "text": [
        "\n",
        "|a123456|0.213%|\n",
        "|123456a|0.125%|\n",
        "|5201314|0.122%|\n",
        "|111111|0.119%|\n",
        "|woaini1314|0.103%|\n",
        "|123123|0.074%|\n",
        "|qq123456|0.074%|\n",
        "|000000|0.073%|\n",
        "|1qaz2wsx|0.070%|\n",
        "|1q2w3e4r|0.063%|\n",
        "|qwe123|0.060%|\n",
        "|7758521|0.057%|\n",
        "|123qwe|0.051%|\n",
        "|a123123|0.047%|\n",
        "|woaini520|0.042%|\n",
        "|123456aa|0.041%|\n",
        "|1314520|0.039%|\n",
        "|100200|0.039%|\n",
        "|woaini|0.038%|\n",
        "|123321|0.037%|\n",
        "|woaini123|0.037%|\n",
        "|123456789|0.037%|\n",
        "|q123456|0.037%|\n",
        "|a123456789|0.036%|\n",
        "|asd123|0.036%|\n",
        "|5211314|0.036%|\n",
        "|123456789a|0.036%|\n",
        "|asd123456|0.035%|\n",
        "|z123456|0.035%|\n",
        "|a5201314|0.034%|\n",
        "|zhang123|0.031%|\n",
        "|aa123456|0.031%|\n",
        "|123123a|0.030%|\n",
        "|aptx4869|0.028%|\n",
        "|1qazxsw2|0.028%|\n",
        "|1q2w3e4r5t|0.028%|\n",
        "|5201314a|0.027%|\n",
        "|aini1314|0.026%|\n",
        "|1q2w3e|0.026%|\n",
        "|123456qq|0.025%|\n",
        "|q1w2e3r4|0.025%|\n",
        "|31415926|0.025%|\n",
        "|woaini521|0.025%|\n",
        "|a111111|0.025%|\n",
        "|520520|0.025%|\n",
        "|1234qwer|0.025%|\n",
        "|111111a|0.022%|\n",
        "|123456abc|0.022%|\n",
        "|110110|0.022%|\n",
        "|D7|10906|8.283%|\n",
        "|D8|9458|7.184%|\n",
        "|D6|9102|6.913%|\n",
        "|L2D7|5073|3.853%|\n",
        "|L3D6|4832|3.670%|\n",
        "|L1D7|4778|3.629%|\n",
        "|L2D6|4275|3.247%|\n",
        "|L3D7|3885|2.950%|\n",
        "|D9|3594|2.729%|\n",
        "|L2D8|3371|2.560%|\n",
        "|L4D4|3105|2.358%|\n",
        "|L1D8|3103|2.356%|\n",
        "|L6D3|2798|2.125%|\n",
        "|L6D4|2476|1.880%|\n",
        "|L7D3|2192|1.664%|\n",
        "|L5D3|2158|1.639%|\n",
        "|L5D4|2125|1.614%|\n",
        "|L8|2079|1.579%|\n",
        "|D7L1|1973|1.498%|\n",
        "|L3D4|1879|1.427%|\n"
       ]
      }
     ],
     "prompt_number": 8
    },
    {
     "cell_type": "code",
     "collapsed": false,
     "input": [
      "count  = []\n",
      "ttentry = 0\n",
      "for filenumber in range (10,49):    \n",
      "    f2 = open(\"/Users/liyue/research/DATA/tianya/tianya_\"+str(filenumber)+\".txt\",\"r\")\n",
      "    haha = f2.readlines()\n",
      "    for each in haha:\n",
      "        ttentry += 1\n",
      "        info = each.split()\n",
      "        try:\n",
      "            if \"tianya\" in info[1].lower():\n",
      "                count.append(info[1])\n",
      "        except:\n",
      "            print info\n",
      "    f2.close()\n",
      "print len(count)\n",
      "print ttentry\n",
      "print float(len(count))/ttentry\n",
      "print sortlist(count,30)\n",
      "    \n",
      "\n",
      "\n",
      "\n"
     ],
     "language": "python",
     "metadata": {},
     "outputs": [
      {
       "output_type": "stream",
       "stream": "stdout",
       "text": [
        "['cn']\n",
        "[]\n",
        "[]\n",
        "[]"
       ]
      },
      {
       "output_type": "stream",
       "stream": "stdout",
       "text": [
        "\n",
        "[]\n",
        "[]"
       ]
      },
      {
       "output_type": "stream",
       "stream": "stdout",
       "text": [
        "\n",
        "['yjhcqw']"
       ]
      },
      {
       "output_type": "stream",
       "stream": "stdout",
       "text": [
        "\n",
        "[]"
       ]
      },
      {
       "output_type": "stream",
       "stream": "stdout",
       "text": [
        "\n",
        "[]"
       ]
      },
      {
       "output_type": "stream",
       "stream": "stdout",
       "text": [
        "\n",
        "[]"
       ]
      },
      {
       "output_type": "stream",
       "stream": "stdout",
       "text": [
        "\n",
        "['com']"
       ]
      },
      {
       "output_type": "stream",
       "stream": "stdout",
       "text": [
        "\n",
        "[]"
       ]
      },
      {
       "output_type": "stream",
       "stream": "stdout",
       "text": [
        "\n",
        "['\\xcc\\xc7\\xcc\\xc7']"
       ]
      },
      {
       "output_type": "stream",
       "stream": "stdout",
       "text": [
        "\n",
        "[]"
       ]
      },
      {
       "output_type": "stream",
       "stream": "stdout",
       "text": [
        "\n",
        "[]"
       ]
      },
      {
       "output_type": "stream",
       "stream": "stdout",
       "text": [
        "\n",
        "[]\n",
        "[]"
       ]
      },
      {
       "output_type": "stream",
       "stream": "stdout",
       "text": [
        "\n",
        "[]"
       ]
      },
      {
       "output_type": "stream",
       "stream": "stdout",
       "text": [
        "\n",
        "[]\n",
        "['ianya.cn']"
       ]
      },
      {
       "output_type": "stream",
       "stream": "stdout",
       "text": [
        "\n",
        "[]\n",
        "[]"
       ]
      },
      {
       "output_type": "stream",
       "stream": "stdout",
       "text": [
        "\n",
        "['na.com']"
       ]
      },
      {
       "output_type": "stream",
       "stream": "stdout",
       "text": [
        "\n",
        "[]"
       ]
      },
      {
       "output_type": "stream",
       "stream": "stdout",
       "text": [
        "\n",
        "['752150867@qq.com']"
       ]
      },
      {
       "output_type": "stream",
       "stream": "stdout",
       "text": [
        "\n",
        "[]"
       ]
      },
      {
       "output_type": "stream",
       "stream": "stdout",
       "text": [
        "\n",
        "[]"
       ]
      },
      {
       "output_type": "stream",
       "stream": "stdout",
       "text": [
        "\n",
        "['-526@163.com']"
       ]
      },
      {
       "output_type": "stream",
       "stream": "stdout",
       "text": [
        "\n",
        "['m']"
       ]
      },
      {
       "output_type": "stream",
       "stream": "stdout",
       "text": [
        "\n",
        "['gddnrzj@163.com']"
       ]
      },
      {
       "output_type": "stream",
       "stream": "stdout",
       "text": [
        "\n",
        "['m.cn']"
       ]
      },
      {
       "output_type": "stream",
       "stream": "stdout",
       "text": [
        "\n",
        "[]"
       ]
      },
      {
       "output_type": "stream",
       "stream": "stdout",
       "text": [
        "\n",
        "['\\xce\\xd2\\xc8\\xa5\\xb9\\xfd\\xbb\\xf0\\xd0\\xc7']"
       ]
      },
      {
       "output_type": "stream",
       "stream": "stdout",
       "text": [
        "\n",
        "['\\xce\\xd2\\xb2\\xbb\\xca\\xc7\\xc1\\xf7\\xb4\\xa8\\xb7\\xe3']\n",
        "['\\xc7\\xae\\xcd\\xbe\\xb2\\xbb\\xc1\\xc1']\n",
        "['\\xd0\\xc7\\xb5\\xe3\\xc1\\xc1\\xd7\\xd0\\xb4\\xf3']\n",
        "[]\n",
        "['\\xd2\\xbb\\xc1\\xb3\\xb5\\xc4\\xc3\\xc0\\xc8\\xcb\\xf0\\xeb']\n",
        "['\\xce\\xfc\\xd1\\xcc\\xb3\\xc9\\xf1\\xab']\n",
        "['\\xd4\\xc2\\xc9\\xab\\xb8\\xdf\\xc2\\xa5\\xb2\\xd8']\n",
        "['\\xc9\\xee\\xc7\\xef\\xb5\\xc4\\xd3\\xb0\\xd7\\xd3']\n",
        "[]\n",
        "['\\xb4\\xa9\\xd4\\xbd\\xca\\xb1\\xbf\\xd5\\xd6\\xbb\\xc1\\xb5']\n",
        "['\\xd7\\xee\\xba\\xc3\\xd7\\xf6\\xd7\\xd4\\xbc\\xba']\n",
        "[]\n",
        "['\\xc4\\xa7\\xca\\xf5\\xca\\xd4\\xd2\\xc2\\xbe\\xb5']\n",
        "['\\xcd\\xfc']\n",
        "[]\n",
        "['\\xce\\xc2\\xc8\\xe1\\xc9\\xc6\\xc1\\xbc']\n",
        "[]\n",
        "['idreg@hainan.net']\n",
        "[]\n",
        "['\\xcd\\xb5\\xcc\\xec\\xd3\\xce\\xcf\\xb7']\n",
        "['\\xd2\\xac\\xb3\\xc7\\xb5\\xc4\\xd0\\xa1\\xd6\\xed']\n",
        "[]\n",
        "[]\n",
        "['\\xb6\\xcb\\xc0\\xf6\\xb5\\xc4\\xc6\\xbd\\xb7\\xb21']\n",
        "['\\xd0\\xa1\\xd0\\xa1']\n",
        "[]\n",
        "['\\xb7\\xe7\\xc1\\xf7\\xb6\\xc4\\xbf\\xcd']\n",
        "['idreg@hainan.net']\n",
        "['idreg@hainan.net']\n",
        "['\\xbb\\xdb\\xd0\\xc4\\xbd\\xe3\\xbd\\xe3']\n",
        "['idreg@hainan.net']\n",
        "[]\n",
        "['idreg@hainan.net']\n",
        "['idreg@hainan.net']\n",
        "['\\xb4\\xf2\\xcb\\xc0\\xc0\\xcf\\xbb\\xa2\\xb5\\xc4\\xc8\\xf8\\xb5\\xa4']\n",
        "['jduejah']\n",
        "['idreg@hainan.net']\n",
        "['idreg@hainan.net']\n",
        "['t']"
       ]
      },
      {
       "output_type": "stream",
       "stream": "stdout",
       "text": [
        "\n",
        "[]"
       ]
      },
      {
       "output_type": "stream",
       "stream": "stdout",
       "text": [
        "\n",
        "['jialigeng@126.com']"
       ]
      },
      {
       "output_type": "stream",
       "stream": "stdout",
       "text": [
        "\n",
        "['\\xd0']"
       ]
      },
      {
       "output_type": "stream",
       "stream": "stdout",
       "text": [
        "\n",
        "['\\xb3\\xe9']"
       ]
      },
      {
       "output_type": "stream",
       "stream": "stdout",
       "text": [
        "\n",
        "['\\xb5\\xb6']\n",
        "['\\xb6\\xcf']\n",
        "['\\xcb\\xae']\n",
        "[]"
       ]
      },
      {
       "output_type": "stream",
       "stream": "stdout",
       "text": [
        "\n",
        "[]"
       ]
      },
      {
       "output_type": "stream",
       "stream": "stdout",
       "text": [
        "\n",
        "['m']"
       ]
      },
      {
       "output_type": "stream",
       "stream": "stdout",
       "text": [
        "\n",
        "[]"
       ]
      },
      {
       "output_type": "stream",
       "stream": "stdout",
       "text": [
        "\n",
        "[]"
       ]
      },
      {
       "output_type": "stream",
       "stream": "stdout",
       "text": [
        "\n",
        "['om']"
       ]
      },
      {
       "output_type": "stream",
       "stream": "stdout",
       "text": [
        "\n",
        "['a.com']"
       ]
      },
      {
       "output_type": "stream",
       "stream": "stdout",
       "text": [
        "\n",
        "[]"
       ]
      },
      {
       "output_type": "stream",
       "stream": "stdout",
       "text": [
        "\n",
        "[]"
       ]
      },
      {
       "output_type": "stream",
       "stream": "stdout",
       "text": [
        "\n",
        "[]"
       ]
      },
      {
       "output_type": "stream",
       "stream": "stdout",
       "text": [
        "\n",
        "[]"
       ]
      },
      {
       "output_type": "stream",
       "stream": "stdout",
       "text": [
        "\n",
        "[]\n",
        "['2008@126.com']"
       ]
      },
      {
       "output_type": "stream",
       "stream": "stdout",
       "text": [
        "\n",
        "[]"
       ]
      },
      {
       "output_type": "stream",
       "stream": "stdout",
       "text": [
        "\n",
        "[]"
       ]
      },
      {
       "output_type": "stream",
       "stream": "stdout",
       "text": [
        "\n",
        "[]\n",
        "[]"
       ]
      },
      {
       "output_type": "stream",
       "stream": "stdout",
       "text": [
        "\n",
        "[]"
       ]
      },
      {
       "output_type": "stream",
       "stream": "stdout",
       "text": [
        "\n",
        "['com']"
       ]
      },
      {
       "output_type": "stream",
       "stream": "stdout",
       "text": [
        "\n",
        "[]"
       ]
      },
      {
       "output_type": "stream",
       "stream": "stdout",
       "text": [
        "\n",
        "['npp@163.com']"
       ]
      },
      {
       "output_type": "stream",
       "stream": "stdout",
       "text": [
        "\n",
        "['ina.com']"
       ]
      },
      {
       "output_type": "stream",
       "stream": "stdout",
       "text": [
        "\n",
        "['e3@21cn.com']"
       ]
      },
      {
       "output_type": "stream",
       "stream": "stdout",
       "text": [
        "\n",
        "[]"
       ]
      },
      {
       "output_type": "stream",
       "stream": "stdout",
       "text": [
        "\n",
        "[]"
       ]
      },
      {
       "output_type": "stream",
       "stream": "stdout",
       "text": [
        "\n",
        "['rainbowbo']"
       ]
      },
      {
       "output_type": "stream",
       "stream": "stdout",
       "text": [
        "\n",
        "[]"
       ]
      },
      {
       "output_type": "stream",
       "stream": "stdout",
       "text": [
        "\n",
        "[]"
       ]
      },
      {
       "output_type": "stream",
       "stream": "stdout",
       "text": [
        "\n",
        "[]"
       ]
      },
      {
       "output_type": "stream",
       "stream": "stdout",
       "text": [
        "\n",
        "[]\n",
        "[]\n",
        "[]"
       ]
      },
      {
       "output_type": "stream",
       "stream": "stdout",
       "text": [
        "\n",
        "[]"
       ]
      },
      {
       "output_type": "stream",
       "stream": "stdout",
       "text": [
        "\n",
        "[]\n",
        "['shuixian@tianya.cn']"
       ]
      },
      {
       "output_type": "stream",
       "stream": "stdout",
       "text": [
        "\n",
        "['siena_20081@tianya.cn']"
       ]
      },
      {
       "output_type": "stream",
       "stream": "stdout",
       "text": [
        "\n",
        "[]"
       ]
      },
      {
       "output_type": "stream",
       "stream": "stdout",
       "text": [
        "\n",
        "['leezc007@hotmail.com']"
       ]
      },
      {
       "output_type": "stream",
       "stream": "stdout",
       "text": [
        "\n",
        "['sugarfang']"
       ]
      },
      {
       "output_type": "stream",
       "stream": "stdout",
       "text": [
        "\n",
        "[]"
       ]
      },
      {
       "output_type": "stream",
       "stream": "stdout",
       "text": [
        "\n",
        "[]"
       ]
      },
      {
       "output_type": "stream",
       "stream": "stdout",
       "text": [
        "\n",
        "[]"
       ]
      },
      {
       "output_type": "stream",
       "stream": "stdout",
       "text": [
        "\n",
        "['srog@sohu.com']"
       ]
      },
      {
       "output_type": "stream",
       "stream": "stdout",
       "text": [
        "\n",
        "[]"
       ]
      },
      {
       "output_type": "stream",
       "stream": "stdout",
       "text": [
        "\n",
        "[]"
       ]
      },
      {
       "output_type": "stream",
       "stream": "stdout",
       "text": [
        "\n",
        "['u1']"
       ]
      },
      {
       "output_type": "stream",
       "stream": "stdout",
       "text": [
        "\n",
        "[]"
       ]
      },
      {
       "output_type": "stream",
       "stream": "stdout",
       "text": [
        "\n",
        "['541880350@qq.com']"
       ]
      },
      {
       "output_type": "stream",
       "stream": "stdout",
       "text": [
        "\n",
        "[]\n",
        "[]\n",
        "[]\n",
        "[]\n",
        "[]\n",
        "['wuzha']"
       ]
      },
      {
       "output_type": "stream",
       "stream": "stdout",
       "text": [
        "\n",
        "[]"
       ]
      },
      {
       "output_type": "stream",
       "stream": "stdout",
       "text": [
        "\n",
        "['yxy19870123@126.com']"
       ]
      },
      {
       "output_type": "stream",
       "stream": "stdout",
       "text": [
        "\n",
        "[]\n",
        "['ar']"
       ]
      },
      {
       "output_type": "stream",
       "stream": "stdout",
       "text": [
        "\n",
        "[]"
       ]
      },
      {
       "output_type": "stream",
       "stream": "stdout",
       "text": [
        "\n",
        "[]\n",
        "[]"
       ]
      },
      {
       "output_type": "stream",
       "stream": "stdout",
       "text": [
        "\n",
        "['.com']"
       ]
      },
      {
       "output_type": "stream",
       "stream": "stdout",
       "text": [
        "\n",
        "[]"
       ]
      },
      {
       "output_type": "stream",
       "stream": "stdout",
       "text": [
        "\n",
        "['Yangcatherine79']"
       ]
      },
      {
       "output_type": "stream",
       "stream": "stdout",
       "text": [
        "\n",
        "[]"
       ]
      },
      {
       "output_type": "stream",
       "stream": "stdout",
       "text": [
        "\n",
        "['\\xce\\xd2\\xca\\xc7\\xc4\\xe3\\xb5\\xc4\\xcb\\xad']"
       ]
      },
      {
       "output_type": "stream",
       "stream": "stdout",
       "text": [
        "\n",
        "[]"
       ]
      },
      {
       "output_type": "stream",
       "stream": "stdout",
       "text": [
        "\n",
        "[]"
       ]
      },
      {
       "output_type": "stream",
       "stream": "stdout",
       "text": [
        "\n",
        "[]\n",
        "[]"
       ]
      },
      {
       "output_type": "stream",
       "stream": "stdout",
       "text": [
        "\n",
        "[]"
       ]
      },
      {
       "output_type": "stream",
       "stream": "stdout",
       "text": [
        "\n",
        "['zhudtr@163.com']"
       ]
      },
      {
       "output_type": "stream",
       "stream": "stdout",
       "text": [
        "\n",
        "['\\xbb\\xec\\xca\\xc0D\\xc4']"
       ]
      },
      {
       "output_type": "stream",
       "stream": "stdout",
       "text": [
        "\n",
        "67312\n",
        "24087768\n",
        "0.00279444737262\n",
        "|111222tianya|44227|65.7%\n",
        "|tianya|4793|7.12%\n",
        "|tianyashequ|644|0.95%\n",
        "|2006tianya|460|0.68%\n",
        "|tianya123|381|0.56%\n",
        "|tianyaclub|277|0.41%\n",
        "|tianya.cn|235|0.34%\n",
        "|mytianya|169|0.25%\n",
        "|wodetianya|163|0.24%\n",
        "|baidu2tianya|163|0.24%\n",
        "|tianyacn|144|0.21%\n",
        "|woaitianya|139|0.20%\n",
        "|tianya2009|138|0.20%\n",
        "|httptianya|133|0.19%\n",
        "|tianyamima|121|0.17%\n",
        "|tianyabashi|112|0.16%\n",
        "|tianyaid|112|0.16%\n",
        "|tianyatianya|105|0.15%\n",
        "|tianyahaijiao|105|0.15%\n",
        "|ilovetianya|103|0.15%\n",
        "|http://id.tianya|100|0.14%\n",
        "|www.tianya.cn|97|0.14%\n",
        "|tianya123456|74|0.10%\n",
        "|tianya2008|71|0.10%\n",
        "|tianyaluntan|70|0.10%\n",
        "|wwwtianyacn|61|0.09%\n",
        "|TIANYA|61|0.09%\n",
        "|tianya07|60|0.08%\n",
        "|tianya2010|59|0.08%\n",
        "|tianya520|55|0.08%\n",
        "\n"
       ]
      }
     ],
     "prompt_number": 31
    },
    {
     "cell_type": "code",
     "collapsed": false,
     "input": [
      "\n",
      "\n",
      "f3 = open(\"/Users/liyue/research/DATA/password/myspace.txt\",\"r\")\n",
      "\n",
      "haha = f3.readlines()\n",
      "count  = []\n",
      "for each in haha:\n",
      "    info = each.split()\n",
      "    try:\n",
      "        if \"myspace\" in info[0].lower():\n",
      "            count.append(info[0])\n",
      "    except:\n",
      "        print info\n",
      "print len(count)\n",
      "print len(haha)\n",
      "print float(len(count))/len(haha)\n",
      "print sortlist(count,20)\n",
      "f3.close()\n"
     ],
     "language": "python",
     "metadata": {},
     "outputs": [
      {
       "output_type": "stream",
       "stream": "stdout",
       "text": [
        "51\n",
        "37144\n",
        "0.00137303467586\n",
        "|myspace07|1|1.96%\n",
        "|myspacepw2|1|1.96%\n",
        "|13myspace|1|1.96%\n",
        "|myspace123|1|1.96%\n",
        "|myspace112|1|1.96%\n",
        "|427myspace|1|1.96%\n",
        "|myspace8415|1|1.96%\n",
        "|myspace13|1|1.96%\n",
        "|myspace12|1|1.96%\n",
        "|myspace14|1|1.96%\n",
        "|myspace17|1|1.96%\n",
        "|myspace16|1|1.96%\n",
        "|emailtomyspace|1|1.96%\n",
        "|myspace4me|1|1.96%\n",
        "|WW.MYSPACE.COM|1|1.96%\n",
        "|myspaceg0|1|1.96%\n",
        "|myspace0312|1|1.96%\n",
        "|myspace93|1|1.96%\n",
        "|myspace94|1|1.96%\n",
        "|www.myspace.com|1|1.96%\n",
        "\n"
       ]
      }
     ],
     "prompt_number": 16
    },
    {
     "cell_type": "code",
     "collapsed": false,
     "input": [
      "fout = open(workspace+\"trainingset\",\"w\")\n",
      "fout2 = open(workspace+\"testingset\",\"w\")\n",
      "for i in range(0,len(mpwd)/2):\n",
      "    fout.write(mpwd[i][0]+\"\\n\")\n",
      "for i in range(len(mpwd)/2,len(mpwd)):\n",
      "    fout2.write(mpwd[i][0] + \"\\n\")\n",
      "fout.close()\n",
      "fout2.close()"
     ],
     "language": "python",
     "metadata": {},
     "outputs": [],
     "prompt_number": 9
    },
    {
     "cell_type": "code",
     "collapsed": false,
     "input": [
      "%matplotlib inline\n",
      "\n",
      "import matplotlib.pyplot as plt\n",
      "plt.plot([1,2,3,4])\n",
      "plt.xscale('log', nonposy='clip')\n",
      "plt.ylabel('some y numbers')\n",
      "plt.xlabel('some x numbers')\n",
      "plt.show()\n"
     ],
     "language": "python",
     "metadata": {},
     "outputs": []
    }
   ],
   "metadata": {}
  }
 ]
}