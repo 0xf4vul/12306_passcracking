{
 "metadata": {
  "name": "",
  "signature": "sha256:a107810a51008635daa122de927ddbd236cbb1f6f0240b34ef9ffce8baaae438"
 },
 "nbformat": 3,
 "nbformat_minor": 0,
 "worksheets": [
  {
   "cells": [
    {
     "cell_type": "code",
     "collapsed": false,
     "input": [
      "from IPython.display import clear_output\n",
      "import pinyin\n",
      "import operator\n",
      "import re\n",
      "\n",
      "def lcs(a, b):\n",
      "    lengths = [[0 for j in range(len(b)+1)] for i in range(len(a)+1)]\n",
      "    # row 0 and column 0 are initialized to 0 already\n",
      "    for i, x in enumerate(a):\n",
      "        for j, y in enumerate(b):\n",
      "            if x == y:\n",
      "                lengths[i+1][j+1] = lengths[i][j] + 1\n",
      "            else:\n",
      "                lengths[i+1][j+1] = \\\n",
      "                    max(lengths[i+1][j], lengths[i][j+1])\n",
      "    # read the substring out from the matrix\n",
      "    result = \"\"\n",
      "    x, y = len(a), len(b)\n",
      "    while x != 0 and y != 0:\n",
      "        if lengths[x][y] == lengths[x-1][y]:\n",
      "            x -= 1\n",
      "        elif lengths[x][y] == lengths[x][y-1]:\n",
      "            y -= 1\n",
      "        else:\n",
      "            assert a[x-1] == b[y-1]\n",
      "            result = a[x-1] + result\n",
      "            x -= 1\n",
      "            y -= 1\n",
      "    return result\n",
      "\n",
      "def lccs(S,T): \n",
      "    m = len(S) \n",
      "    n = len(T) \n",
      "    counter = [[0]*(n+1) for x in range(m+1)] \n",
      "    longest = 0 \n",
      "    lcs_set = set() \n",
      "    for i in range(m): \n",
      "        for j in range(n): \n",
      "            if S[i] == T[j]: \n",
      "                c = counter[i][j] + 1 \n",
      "                counter[i+1][j+1] = c \n",
      "                if c > longest: \n",
      "                    lcs_set = set() \n",
      "                    longest = c \n",
      "                    lcs_set.add(S[i-c+1:i+1]) \n",
      "                elif c == longest: \n",
      "                    lcs_set.add(S[i-c+1:i+1]) \n",
      "    if len(lcs_set) > 0:\n",
      "        return lcs_set.pop()\n",
      "    else:\n",
      "        return \"\"\n",
      "\n",
      "def seg(pwd):\n",
      "    lowerc = \"abcdefghijklmnopqrstuvwxyz\"\n",
      "    upperc = lowerc.upper()\n",
      "    number = \"1234567890\"\n",
      "    out = \"\"\n",
      "    lastchar = \"\"\n",
      "    counter = 0\n",
      "    segdic = {}\n",
      "    for i in range(0,len(pwd)):\n",
      "        '''\n",
      "        if eachchar in lowerc:\n",
      "            if lastchar != \"L\":\n",
      "                out += str(counter)\n",
      "                out += \"L\"\n",
      "                counter = 1\n",
      "            else:\n",
      "                counter +=1\n",
      "            lastchar = \"L\"\n",
      "        elif eachchar in upperc:\n",
      "            if lastchar != \"U\":\n",
      "                out += str(counter)\n",
      "                out += \"U\"\n",
      "                counter = 1\n",
      "            else:\n",
      "                counter += 1\n",
      "            lastchar = \"U\"\n",
      "        '''\n",
      "        if pwd[i] in lowerc or pwd[i] in upperc:\n",
      "            if lastchar != \"L\":\n",
      "                dicentry = lastchar + str(counter)\n",
      "                if dicentry in segdic:\n",
      "                    segdic[dicentry].append(pwd[i-counter:i])\n",
      "                else:\n",
      "                    segdic[dicentry] = [pwd[i-counter:i]]\n",
      "                out += str(counter)\n",
      "                out += \"L\"\n",
      "                counter = 1\n",
      "            else:\n",
      "                counter += 1\n",
      "            lastchar = \"L\"\n",
      "        elif pwd[i] in number:\n",
      "            if lastchar != \"D\":\n",
      "                dicentry = lastchar + str(counter)\n",
      "                if dicentry in segdic:\n",
      "                    segdic[dicentry].append(pwd[i-counter:i])\n",
      "                else:\n",
      "                    segdic[dicentry] = [pwd[i-counter:i]]\n",
      "                out += str(counter)\n",
      "                out += \"D\"\n",
      "                counter = 1\n",
      "            else:\n",
      "                counter += 1\n",
      "            lastchar = \"D\"\n",
      "        else:\n",
      "            if lastchar != \"S\":\n",
      "                dicentry = lastchar + str(counter)\n",
      "                if dicentry in segdic:\n",
      "                    segdic[dicentry].append(pwd[i-counter:i])\n",
      "                else:\n",
      "                    segdic[dicentry] = [pwd[i-counter:i]]\n",
      "                out += str(counter)\n",
      "                out += \"S\"\n",
      "                counter = 1\n",
      "            else:\n",
      "                counter += 1\n",
      "            lastchar = \"S\"\n",
      "    dicentry = lastchar + str(counter)\n",
      "    if dicentry in segdic:\n",
      "        segdic[dicentry].append(pwd[i-counter+1:i+1])\n",
      "    else:\n",
      "        segdic[dicentry] = [pwd[i-counter+1:i+1]]\n",
      "    segdic.pop(\"0\")\n",
      "    out += str(counter)\n",
      "    return (out[1:],segdic)\n",
      "\n",
      "def distri(mylist,m):\n",
      "    disdict = {}\n",
      "    for each in mylist:\n",
      "        if each[m] in disdict:\n",
      "            disdict[each[m]] += 1\n",
      "        else:\n",
      "            disdict[each[m]] = 1\n",
      "    sorted_x = sorted(disdict.items(), key=operator.itemgetter(1))\n",
      "    result = []\n",
      "    for i in range(len(sorted_x)-1, len(sorted_x)-51,-1):\n",
      "        result.append([sorted_x[i][0],sorted_x[i][1]/float(len(mylist))])\n",
      "    return result\n",
      "\n",
      "def greatest(mylist):\n",
      "    c = 0\n",
      "    st = \"\"\n",
      "    for each in mylist:\n",
      "        if len(each) > c:\n",
      "            c = len(each)\n",
      "            st = each\n",
      "    return st\n",
      "\n",
      "def cvg(mylist,thre): #(LISTNAME, PWD, REF, REFLEN, THRESHOLD)\n",
      "    pwd = mylist[0]\n",
      "    bd = mylist[1]\n",
      "    name = mylist[2]\n",
      "    email = mylist[3]\n",
      "    cell = mylist[4]\n",
      "    acctn = mylist[5]\n",
      "    IDN = mylist[6]\n",
      "    struct = mylist[7]\n",
      "    structdic = mylist[8]\n",
      "    cvg = \"\"\n",
      "    for eachstruct in structdic:\n",
      "        if \"L\" in eachstruct:\n",
      "            for item in structdic[eachstruct]:\n",
      "                x = lcs(item,name)\n",
      "                y = lcs(item,email)\n",
      "                z = lcs(item,acctn)\n",
      "                gg = greatest([x,y,z])\n",
      "                if float(len(gg))/len(item) >= thre:\n",
      "                    cvg += gg\n",
      "        if \"D\" in eachstruct:\n",
      "            for item in structdic[eachstruct]:\n",
      "                x = lcs(item,bd)\n",
      "                y = lcs(item,email)\n",
      "                z = lcs(item,cell)\n",
      "                a = lcs(item,IDN)\n",
      "                b = lcs(item,acctn)\n",
      "                gg = greatest([x,y,z,a,b])\n",
      "                if float(len(gg))/len(item) >= thre:\n",
      "                    cvg += gg\n",
      "    return cvg\n",
      "\n",
      "def get_all_substrings(input_string):\n",
      "  length = len(input_string)\n",
      "  return [input_string[i:j+1] for i in xrange(length) for j in xrange(i,length)]\n",
      "\n",
      "def matchbd(seg,bd):\n",
      "    #YYYYMMDD, YYYYMDD, YYYYMD, YYMMDD, YYMDD, YYMD, MMDD, MDD, MD, MMDDYY, MMDDYYYY, DDMMYY, DDMMYYYY,\n",
      "    if re.search('[a-zA-Z]', seg) == None: #NO STRING\n",
      "        YYYY = bd[:4]\n",
      "        YY = bd[2:4]\n",
      "        MM = bd[4:6]\n",
      "        M = bd[5]\n",
      "        DD = bd[6:8]\n",
      "        D = bd[7]\n",
      "        trial = [YYYY+MM+DD, YYYY+M+DD, YYYY+M+D, YY+MM+DD, YY+M+DD, YY+M+D, YYYY+MM, YYYY+DD, YYYY, YY, MM+DD, M+DD, M+D,\\\n",
      "                 MM+DD+YY, MM+DD+YYYY, DD+MM+YY, DD+MM+YYYY]\n",
      "        if seg in trial:\n",
      "            return 1\n",
      "    return 0\n",
      "def matchname(seg,name):\n",
      "    fullname = pinyin.get(name)\n",
      "    ininame = pinyin.get_initial(name).replace(\" \",\"\")\n",
      "    if seg in (fullname,ininame):\n",
      "        return 1\n",
      "    return 0\n",
      "def matchemail(seg,email):\n",
      "    emailpart = email.split(\"@\")\n",
      "    emailservice = emailpart[1].split(\".\")[0]\n",
      "    emailpart.append(emailservice)\n",
      "    if seg in emailservice:\n",
      "        return 1\n",
      "    return 0\n",
      "def matchcell(seg,cell):\n",
      "    if seg in cell and len(seg)>=4:\n",
      "        return 1\n",
      "def matchaccount(seg,acct):\n",
      "    if seg in acct and len(seg)>=4:\n",
      "        return 1\n",
      "def matchID(seg,ID):\n",
      "    if seg in ID and len(seg)>=4:\n",
      "        return 1\n",
      "\n",
      "    \n",
      "    \n",
      "def matchsub(mystring,listitem):\n",
      "    result = mystring\n",
      "    newform = \"\"\n",
      "    if len(mystring) >= 2:\n",
      "        bd = listitem[1]\n",
      "        name = listitem[2]\n",
      "        email = listitem[3]\n",
      "        cell = listitem[4]\n",
      "        account = listitem[5]\n",
      "        ID = listitem[6]\n",
      "        name = listitem[-1]\n",
      "        sub = get_all_substrings(mystring)\n",
      "        sub.sort(key=len, reverse=True)\n",
      "        rec = []\n",
      "        tag = \"\"\n",
      "        for each in sub:\n",
      "            if len(each) >= 2:\n",
      "                if matchbd(each,bd) == 1:\n",
      "                    rec = result.split(each)\n",
      "                    tag = \"[[BD]]\"\n",
      "                    break\n",
      "                if matchname(each,name) == 1:\n",
      "                    rec = result.split(each)\n",
      "                    tag = \"[[NAME]]\"\n",
      "                    break\n",
      "                if matchemail(each,email) == 1:\n",
      "                    rec = result.split(each)\n",
      "                    tag = \"[[EMAIL]]\"\n",
      "                    break\n",
      "                if matchcell(each,cell) == 1:\n",
      "                    rec = result.split(each)\n",
      "                    tag = \"[[CELL]]\"\n",
      "                    break\n",
      "                if matchaccount(each,account) == 1:\n",
      "                    rec = result.split(each)\n",
      "                    tag = \"[[ACCT]]\"\n",
      "                    break\n",
      "                if matchID(each,ID) == 1:\n",
      "                    rec = result.split(each)\n",
      "                    tag = \"[[ID]]\"\n",
      "                    break\n",
      "            else:\n",
      "                break\n",
      "        if len(rec) > 0:\n",
      "            print \"_____\"\n",
      "            for i in range (0,len(rec)-1):\n",
      "                newform += matchsub(rec[i],listitem) + tag\n",
      "            newform += matchsub(rec[-1],listitem)\n",
      "        else:\n",
      "            newform = mystring\n",
      "    return newform\n",
      "            \n",
      "\n",
      "\n",
      "def matchpersonal(listitem):\n",
      "    password = listitem[0]\n",
      "    return matchsub(password,listitem)\n",
      "    \n",
      "    \n",
      "    "
     ],
     "language": "python",
     "metadata": {},
     "outputs": [],
     "prompt_number": 185
    },
    {
     "cell_type": "code",
     "collapsed": false,
     "input": [
      "###USED for Testing\n",
      "listone = mpwd[0]\n",
      "listone[0] = \"zyf1987qq150668376050011\"\n",
      "print listone\n",
      "print cvg(listone,0.5)\n",
      "hello =  get_all_substrings('lk19861030')\n",
      "hello.sort(key=len, reverse=True)\n",
      "print re.search('[a-zA-Z]', \"123\")\n",
      "\n",
      "\n",
      "print matchpersonal(listone)\n",
      "print \"6837605\" in \"z6837605\""
     ],
     "language": "python",
     "metadata": {},
     "outputs": [
      {
       "output_type": "stream",
       "stream": "stdout",
       "text": [
        "['zyf1987qq150668376050011', '19870504', 'zhengyifeng', '274667266@qq.com', '15068860664', 'z6837605', '332522198705040011', 'D7', {'D7': ['6837605']}, '\\xe9\\x83\\x91\\xe4\\xb8\\x80\\xe5\\xb3\\xb0']\n",
        "6837605\n",
        "None\n",
        "['zyf1987qq1506', '0011']\n",
        "[[ACCT]]\n",
        "_____\n",
        "['zyf', 'qq1506']\n",
        "[[BD]]\n",
        "_____\n",
        "['', '']\n",
        "[[NAME]]\n",
        "_____\n",
        "['qq', '']\n",
        "[[CELL]]\n",
        "_____\n",
        "['', '']\n",
        "[[EMAIL]]\n",
        "_____\n",
        "['', '']\n",
        "[[ID]]\n",
        "_____\n",
        "[[NAME]][[BD]][[EMAIL]][[CELL]][[ACCT]][[ID]]\n",
        "True\n"
       ]
      }
     ],
     "prompt_number": 187
    },
    {
     "cell_type": "code",
     "collapsed": false,
     "input": [
      "f = open(\"/Users/liyue/research/DATA/12306/data\",\"r\")\n",
      "lines = f.readlines()\n",
      "f.close()\n",
      "segdic = {}\n",
      "D7 = []\n",
      "D6 = []\n",
      "D8 = []\n",
      "mpwd = []\n",
      "for eachline in lines:\n",
      "    line = eachline.split(\"----\")\n",
      "    email = line[0]\n",
      "    pwd = line[1]\n",
      "    name = pinyin.get(line[2].decode(\"gbk\").encode('utf-8'))\n",
      "    BD = line[3][6:14]\n",
      "    IDN = line[3]\n",
      "    ActN = line[4]\n",
      "    Tel = line[5]\n",
      "    myseg = seg(pwd)\n",
      "    oriname = line[2].decode(\"gbk\").encode('utf-8')\n",
      "    if len(IDN) == 18:\n",
      "        mpwd.append([pwd,BD,name,email,Tel,ActN,IDN,myseg[0],myseg[1],oriname])\n",
      "    if myseg[0] in segdic:\n",
      "        segdic[myseg[0]] += 1\n",
      "    else:\n",
      "        segdic[myseg[0]] = 1\n",
      "print mpwd[0]"
     ],
     "language": "python",
     "metadata": {},
     "outputs": [
      {
       "output_type": "stream",
       "stream": "stdout",
       "text": [
        "['6837605', '19870504', 'zhengyifeng', '274667266@qq.com', '15068860664', 'z6837605', '332522198705040011', 'D7', {'D7': ['6837605']}, '\\xe9\\x83\\x91\\xe4\\xb8\\x80\\xe5\\xb3\\xb0']\n"
       ]
      }
     ],
     "prompt_number": 123
    },
    {
     "cell_type": "code",
     "collapsed": false,
     "input": [
      "for thre in range(0,10):\n",
      "    ttrate = 0\n",
      "    for i in range(0,len(mpwd)):\n",
      "        ttrate += len(cvg(mpwd[i],thre/10.0))/float(len(mpwd[i][0]))\n",
      "    print \"| \" + str(ttrate/len(mpwd))[:5] + \" |\""
     ],
     "language": "python",
     "metadata": {},
     "outputs": [
      {
       "output_type": "stream",
       "stream": "stdout",
       "text": [
        "| 0.717 |\n",
        "| 0.717 |"
       ]
      },
      {
       "output_type": "stream",
       "stream": "stdout",
       "text": [
        "\n",
        "| 0.715 |"
       ]
      },
      {
       "output_type": "stream",
       "stream": "stdout",
       "text": [
        "\n",
        "| 0.708 |"
       ]
      },
      {
       "output_type": "stream",
       "stream": "stdout",
       "text": [
        "\n",
        "| 0.691 |"
       ]
      },
      {
       "output_type": "stream",
       "stream": "stdout",
       "text": [
        "\n",
        "| 0.662 |"
       ]
      },
      {
       "output_type": "stream",
       "stream": "stdout",
       "text": [
        "\n",
        "| 0.556 |"
       ]
      },
      {
       "output_type": "stream",
       "stream": "stdout",
       "text": [
        "\n",
        "| 0.475 |"
       ]
      },
      {
       "output_type": "stream",
       "stream": "stdout",
       "text": [
        "\n",
        "| 0.419 |"
       ]
      },
      {
       "output_type": "stream",
       "stream": "stdout",
       "text": [
        "\n",
        "| 0.374 |"
       ]
      },
      {
       "output_type": "stream",
       "stream": "stdout",
       "text": [
        "\n"
       ]
      }
     ],
     "prompt_number": 97
    },
    {
     "cell_type": "code",
     "collapsed": false,
     "input": [
      "0.717273128751\n",
      "0.662484112582\n",
      "0.373693698454"
     ],
     "language": "python",
     "metadata": {},
     "outputs": [],
     "prompt_number": 74
    },
    {
     "cell_type": "code",
     "collapsed": false,
     "input": [
      "leng = 0.0\n",
      "for each in mpwd:\n",
      "    leng+=len(each[0])\n",
      "print leng/len(mpwd)\n"
     ],
     "language": "python",
     "metadata": {},
     "outputs": [
      {
       "output_type": "stream",
       "stream": "stdout",
       "text": [
        "8.43781759626\n"
       ]
      }
     ],
     "prompt_number": 5
    },
    {
     "cell_type": "code",
     "collapsed": false,
     "input": [
      "#SHORTEST PASSWORD AND THE DISTRIBUTION OF PASSWORDS\n",
      "short =100\n",
      "for each in mpwd:\n",
      "    if short > len(each[0]):\n",
      "        short = len(each[0])\n",
      "    if len(each[0]) == 4:\n",
      "        print each[0]\n",
      "        print \"XX\"\n",
      "print short#THERE IS ONE PASSWORD OF LENGTH 4 (5700), all other passwords have longer length at least 7\n",
      "hello = distri(mpwd,0)\n",
      "for each in hello:\n",
      "    print \"|\"+each[0]+\"|\"+str(each[1]*100)[:5]+\"%|\"\n",
      "# FIND THE MOST FREQUEN STRUCTURE\n",
      "sorted_x = sorted(segdic.items(), key=operator.itemgetter(1))\n",
      "for i in range(len(sorted_x)-1,len(sorted_x)-21,-1):\n",
      "    print \"|\"+ sorted_x[i][0] + \"|\"+ str(sorted_x[i][1])+\"|\"+str(float(sorted_x[i][1])/len(lines)*100)[:5]+\"%|\""
     ],
     "language": "python",
     "metadata": {},
     "outputs": [
      {
       "output_type": "stream",
       "stream": "stdout",
       "text": [
        "5700\n",
        "XX\n",
        "4"
       ]
      },
      {
       "output_type": "stream",
       "stream": "stdout",
       "text": [
        "\n",
        "|123456|0.297%|"
       ]
      },
      {
       "output_type": "stream",
       "stream": "stdout",
       "text": [
        "\n",
        "|a123456|0.213%|\n",
        "|123456a|0.125%|\n",
        "|5201314|0.122%|\n",
        "|111111|0.119%|\n",
        "|woaini1314|0.103%|\n",
        "|123123|0.074%|\n",
        "|qq123456|0.074%|\n",
        "|000000|0.073%|\n",
        "|1qaz2wsx|0.070%|\n",
        "|1q2w3e4r|0.063%|\n",
        "|qwe123|0.060%|\n",
        "|7758521|0.057%|\n",
        "|123qwe|0.051%|\n",
        "|a123123|0.047%|\n",
        "|woaini520|0.042%|\n",
        "|123456aa|0.041%|\n",
        "|1314520|0.039%|\n",
        "|100200|0.039%|\n",
        "|woaini|0.038%|\n",
        "|123321|0.037%|\n",
        "|woaini123|0.037%|\n",
        "|123456789|0.037%|\n",
        "|q123456|0.037%|\n",
        "|a123456789|0.036%|\n",
        "|asd123|0.036%|\n",
        "|5211314|0.036%|\n",
        "|123456789a|0.036%|\n",
        "|asd123456|0.035%|\n",
        "|z123456|0.035%|\n",
        "|a5201314|0.034%|\n",
        "|zhang123|0.031%|\n",
        "|aa123456|0.031%|\n",
        "|123123a|0.030%|\n",
        "|aptx4869|0.028%|\n",
        "|1qazxsw2|0.028%|\n",
        "|1q2w3e4r5t|0.028%|\n",
        "|5201314a|0.027%|\n",
        "|aini1314|0.026%|\n",
        "|1q2w3e|0.026%|\n",
        "|123456qq|0.025%|\n",
        "|q1w2e3r4|0.025%|\n",
        "|31415926|0.025%|\n",
        "|woaini521|0.025%|\n",
        "|a111111|0.025%|\n",
        "|520520|0.025%|\n",
        "|1234qwer|0.025%|\n",
        "|111111a|0.022%|\n",
        "|123456abc|0.022%|\n",
        "|110110|0.022%|\n",
        "|D7|10906|8.283%|\n",
        "|D8|9458|7.184%|\n",
        "|D6|9102|6.913%|\n",
        "|L2D7|5073|3.853%|\n",
        "|L3D6|4832|3.670%|\n",
        "|L1D7|4778|3.629%|\n",
        "|L2D6|4275|3.247%|\n",
        "|L3D7|3885|2.950%|\n",
        "|D9|3594|2.729%|\n",
        "|L2D8|3371|2.560%|\n",
        "|L4D4|3105|2.358%|\n",
        "|L1D8|3103|2.356%|\n",
        "|L6D3|2798|2.125%|\n",
        "|L6D4|2476|1.880%|\n",
        "|L7D3|2192|1.664%|\n",
        "|L5D3|2158|1.639%|\n",
        "|L5D4|2125|1.614%|\n",
        "|L8|2079|1.579%|\n",
        "|D7L1|1973|1.498%|\n",
        "|L3D4|1879|1.427%|\n"
       ]
      }
     ],
     "prompt_number": 8
    },
    {
     "cell_type": "code",
     "collapsed": false,
     "input": [],
     "language": "python",
     "metadata": {},
     "outputs": [
      {
       "output_type": "stream",
       "stream": "stdout",
       "text": [
        "1425264044.09\n",
        "OK, cracked"
       ]
      },
      {
       "output_type": "stream",
       "stream": "stdout",
       "text": [
        "\n",
        "1425264151.12\n"
       ]
      }
     ],
     "prompt_number": 1
    },
    {
     "cell_type": "code",
     "collapsed": false,
     "input": [
      "\n",
      "print lcs(\"abc\",\"123\")\n",
      "print lccs(\"abc\",\"123\")\n",
      "print \"abc\" in \"abcd\"\n"
     ],
     "language": "python",
     "metadata": {},
     "outputs": [
      {
       "output_type": "stream",
       "stream": "stdout",
       "text": [
        "\n",
        "\n",
        "True\n"
       ]
      }
     ],
     "prompt_number": 120
    },
    {
     "cell_type": "code",
     "collapsed": false,
     "input": [
      "def fk(k):\n",
      "    if k == 1:\n",
      "        return 1\n",
      "print fk(0)"
     ],
     "language": "python",
     "metadata": {},
     "outputs": [
      {
       "output_type": "stream",
       "stream": "stdout",
       "text": [
        "None\n"
       ]
      }
     ],
     "prompt_number": 132
    },
    {
     "cell_type": "code",
     "collapsed": false,
     "input": [
      "\"abcdabc\".split(\"abc\")\n",
      "print range(0,1)"
     ],
     "language": "python",
     "metadata": {},
     "outputs": [
      {
       "output_type": "stream",
       "stream": "stdout",
       "text": [
        "[0]\n"
       ]
      }
     ],
     "prompt_number": 137
    },
    {
     "cell_type": "code",
     "collapsed": false,
     "input": [],
     "language": "python",
     "metadata": {},
     "outputs": []
    }
   ],
   "metadata": {}
  }
 ]
}