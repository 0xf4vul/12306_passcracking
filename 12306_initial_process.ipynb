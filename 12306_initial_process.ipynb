{
 "metadata": {
  "name": "",
  "signature": "sha256:095d0dcdcd01009830a04a9ce77910eb2fc13045e1548f9c618469223468890c"
 },
 "nbformat": 3,
 "nbformat_minor": 0,
 "worksheets": [
  {
   "cells": [
    {
     "cell_type": "code",
     "collapsed": false,
     "input": [
      "def lcs(a, b):\n",
      "    lengths = [[0 for j in range(len(b)+1)] for i in range(len(a)+1)]\n",
      "    # row 0 and column 0 are initialized to 0 already\n",
      "    for i, x in enumerate(a):\n",
      "        for j, y in enumerate(b):\n",
      "            if x == y:\n",
      "                lengths[i+1][j+1] = lengths[i][j] + 1\n",
      "            else:\n",
      "                lengths[i+1][j+1] = \\\n",
      "                    max(lengths[i+1][j], lengths[i][j+1])\n",
      "    # read the substring out from the matrix\n",
      "    result = \"\"\n",
      "    x, y = len(a), len(b)\n",
      "    while x != 0 and y != 0:\n",
      "        if lengths[x][y] == lengths[x-1][y]:\n",
      "            x -= 1\n",
      "        elif lengths[x][y] == lengths[x][y-1]:\n",
      "            y -= 1\n",
      "        else:\n",
      "            assert a[x-1] == b[y-1]\n",
      "            result = a[x-1] + result\n",
      "            x -= 1\n",
      "            y -= 1\n",
      "    return result\n",
      "\n",
      "\n",
      "\n",
      "import pinyin\n",
      "f = open(\"/Users/liyue/research/DATA/12306/data\",\"r\")\n",
      "lines = f.readlines()\n",
      "f.close()\n"
     ],
     "language": "python",
     "metadata": {},
     "outputs": [],
     "prompt_number": 1
    },
    {
     "cell_type": "code",
     "collapsed": false,
     "input": [
      "\n",
      "def pwdtype(pwd):\n",
      "    lowerc = \"abcdefghijklmnopqrstuvwxyz\"\n",
      "    upperc = lowerc.upper()\n",
      "    number = \"1234567890\"\n",
      "    out = \"\"\n",
      "    lastchar = \"\"\n",
      "    counter = 0\n",
      "    for eachchar in pwd:\n",
      "        counter += 1\n",
      "        if eachchar in lowerc:\n",
      "            if lastchar != \"L\":\n",
      "                out += str(counter)\n",
      "                out += \"L\"\n",
      "            lastchar = \"L\"\n",
      "        elif eachchar in upperc:\n",
      "            out += \"U\"\n",
      "            lastchar = \"U\"\n",
      "        elif eachchar in number:\n",
      "            out += \"D\"\n",
      "            lastchar = \"D\"\n",
      "        else:\n",
      "            out += \"S\"\n",
      "            lastchar =\"S\"\n",
      "    return out\n",
      "\n",
      "\n",
      "print pwdtype(\"aaBB!!123\")\n",
      "print pinyin.get(lines[3].split(\"----\")[2].decode(\"gbk\").encode('utf-8'))\n",
      "print lines[3].split(\"----\")[2].decode(\"gbk\").encode('utf-8')"
     ],
     "language": "python",
     "metadata": {},
     "outputs": [
      {
       "output_type": "stream",
       "stream": "stdout",
       "text": [
        "1LUUSSDDD\n",
        "xujiasheng\n",
        "\u8bb8\u5bb6\u5723\n"
       ]
      }
     ],
     "prompt_number": 2
    },
    {
     "cell_type": "code",
     "collapsed": false,
     "input": [
      "rate = []\n",
      "\n",
      "for eachline in lines:\n",
      "    line = eachline.split(\"----\")\n",
      "    pwd = line[1]\n",
      "    Identity = line[3][6:14]\n",
      "    name = pinyin.get(line[2].decode(\"gbk\").encode('utf-8'))\n",
      "    longest = lcs(pwd,Identity)\n",
      "    longest2 = lcs(pwd,name)\n",
      "    if len(longest) >= 6:\n",
      "      myrate = float(len(longest))/len(pwd)\n",
      "    else:\n",
      "      myrate = 0.0\n",
      "    rate.append([Identity,longest,pwd,myrate])"
     ],
     "language": "python",
     "metadata": {},
     "outputs": [],
     "prompt_number": 3
    },
    {
     "cell_type": "code",
     "collapsed": false,
     "input": [
      "\n",
      "\n",
      "total = 0.0\n",
      "for each in rate:\n",
      "    if each[3] > 0:\n",
      "        total+=1\n",
      "        \n",
      "print total/len(lines)"
     ],
     "language": "python",
     "metadata": {},
     "outputs": []
    },
    {
     "cell_type": "code",
     "collapsed": false,
     "input": [
      "import time\n",
      "print time.time()\n",
      "for i in range (1,10**9):\n",
      "    if str(i) == \"19910228\":\n",
      "        print \"OK, cracked\"\n",
      "        print time.time()\n",
      "        break"
     ],
     "language": "python",
     "metadata": {},
     "outputs": [
      {
       "output_type": "stream",
       "stream": "stdout",
       "text": [
        "1425264044.09\n",
        "OK, cracked"
       ]
      },
      {
       "output_type": "stream",
       "stream": "stdout",
       "text": [
        "\n",
        "1425264151.12\n"
       ]
      }
     ],
     "prompt_number": 1
    },
    {
     "cell_type": "code",
     "collapsed": false,
     "input": [],
     "language": "python",
     "metadata": {},
     "outputs": []
    }
   ],
   "metadata": {}
  }
 ]
}