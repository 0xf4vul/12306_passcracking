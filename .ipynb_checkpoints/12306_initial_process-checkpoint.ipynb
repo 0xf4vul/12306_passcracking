{
 "metadata": {
  "name": "",
  "signature": "sha256:d732930b4f15bd3ca4888dfb2959c37992c4cfd893583abc18a4aa782651ddc8"
 },
 "nbformat": 3,
 "nbformat_minor": 0,
 "worksheets": [
  {
   "cells": [
    {
     "cell_type": "code",
     "collapsed": false,
     "input": [
      "from IPython.display import clear_output\n",
      "import pinyin\n",
      "import operator\n",
      "\n",
      "def lcs(a, b):\n",
      "    lengths = [[0 for j in range(len(b)+1)] for i in range(len(a)+1)]\n",
      "    # row 0 and column 0 are initialized to 0 already\n",
      "    for i, x in enumerate(a):\n",
      "        for j, y in enumerate(b):\n",
      "            if x == y:\n",
      "                lengths[i+1][j+1] = lengths[i][j] + 1\n",
      "            else:\n",
      "                lengths[i+1][j+1] = \\\n",
      "                    max(lengths[i+1][j], lengths[i][j+1])\n",
      "    # read the substring out from the matrix\n",
      "    result = \"\"\n",
      "    x, y = len(a), len(b)\n",
      "    while x != 0 and y != 0:\n",
      "        if lengths[x][y] == lengths[x-1][y]:\n",
      "            x -= 1\n",
      "        elif lengths[x][y] == lengths[x][y-1]:\n",
      "            y -= 1\n",
      "        else:\n",
      "            assert a[x-1] == b[y-1]\n",
      "            result = a[x-1] + result\n",
      "            x -= 1\n",
      "            y -= 1\n",
      "    return result\n",
      "\n",
      "\n",
      "f = open(\"/Users/liyue/research/DATA/12306/data\",\"r\")\n",
      "lines = f.readlines()\n",
      "f.close()\n"
     ],
     "language": "python",
     "metadata": {},
     "outputs": [],
     "prompt_number": 23
    },
    {
     "cell_type": "code",
     "collapsed": false,
     "input": [
      "def seg(pwd):\n",
      "    lowerc = \"abcdefghijklmnopqrstuvwxyz\"\n",
      "    upperc = lowerc.upper()\n",
      "    number = \"1234567890\"\n",
      "    out = \"\"\n",
      "    lastchar = \"\"\n",
      "    counter = 0\n",
      "    for eachchar in pwd:\n",
      "        '''\n",
      "        if eachchar in lowerc:\n",
      "            if lastchar != \"L\":\n",
      "                out += str(counter)\n",
      "                out += \"L\"\n",
      "                counter = 1\n",
      "            else:\n",
      "                counter +=1\n",
      "            lastchar = \"L\"\n",
      "        elif eachchar in upperc:\n",
      "            if lastchar != \"U\":\n",
      "                out += str(counter)\n",
      "                out += \"U\"\n",
      "                counter = 1\n",
      "            else:\n",
      "                counter += 1\n",
      "            lastchar = \"U\"\n",
      "        '''\n",
      "        if eachchar in lowerc or eachchar in upperc:\n",
      "            if lastchar != \"L\":\n",
      "                out += str(counter)\n",
      "                out += \"L\"\n",
      "                counter = 1\n",
      "            else:\n",
      "                counter += 1\n",
      "            lastchar = \"L\"\n",
      "        elif eachchar in number:\n",
      "            if lastchar != \"D\":\n",
      "                out += str(counter)\n",
      "                out += \"D\"\n",
      "                counter = 1\n",
      "            else:\n",
      "                counter += 1\n",
      "            lastchar = \"D\"\n",
      "        else:\n",
      "            if lastchar != \"S\":\n",
      "                out += str(counter)\n",
      "                out += \"S\"\n",
      "                counter = 1\n",
      "            else:\n",
      "                counter += 1\n",
      "            lastchar = \"S\"\n",
      "    out += str(counter)\n",
      "    return out[1:]"
     ],
     "language": "python",
     "metadata": {},
     "outputs": []
    },
    {
     "cell_type": "code",
     "collapsed": false,
     "input": [
      "print lines[0]\n",
      "    "
     ],
     "language": "python",
     "metadata": {},
     "outputs": [
      {
       "output_type": "stream",
       "stream": "stdout",
       "text": [
        "274667266@qq.com----6837605----\u05a3\u04bb\ufffd\ufffd----332522198705040011----z6837605----15068860664----274667266@qq.com\r\n",
        "\n"
       ]
      }
     ],
     "prompt_number": 17
    },
    {
     "cell_type": "code",
     "collapsed": false,
     "input": [
      "segdic = {}\n",
      "\n",
      "for eachline in lines:\n",
      "    line = eachline.split(\"----\")\n",
      "    email = line[0]\n",
      "    pwd = line[1]\n",
      "    name = pinyin.get(line[2].decode(\"gbk\").encode('utf-8'))\n",
      "    BD = line[3][6:14]\n",
      "    ActN = line[4]\n",
      "    Tel = line[5]\n",
      "    myseg = seg(pwd)\n",
      "    if myseg in segdic:\n",
      "        segdic[myseg] += 1\n",
      "    else:\n",
      "        segdic[myseg] = 1\n",
      "    \n",
      "    clear_output()"
     ],
     "language": "python",
     "metadata": {},
     "outputs": []
    },
    {
     "cell_type": "code",
     "collapsed": false,
     "input": [
      "sorted_x = sorted(segdic.items(), key=operator.itemgetter(1))\n",
      "for i in range(len(sorted_x)-1,0,-1):\n",
      "    print sorted_x[i]"
     ],
     "language": "python",
     "metadata": {},
     "outputs": []
    },
    {
     "cell_type": "code",
     "collapsed": false,
     "input": [],
     "language": "python",
     "metadata": {},
     "outputs": [
      {
       "output_type": "stream",
       "stream": "stdout",
       "text": [
        "1425264044.09\n",
        "OK, cracked"
       ]
      },
      {
       "output_type": "stream",
       "stream": "stdout",
       "text": [
        "\n",
        "1425264151.12\n"
       ]
      }
     ],
     "prompt_number": 1
    },
    {
     "cell_type": "code",
     "collapsed": false,
     "input": [],
     "language": "python",
     "metadata": {},
     "outputs": []
    }
   ],
   "metadata": {}
  }
 ]
}